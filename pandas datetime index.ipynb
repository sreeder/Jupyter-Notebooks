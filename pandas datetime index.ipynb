{
 "metadata": {
  "name": "",
  "signature": "sha256:bc3b7c6943ad71488c144b9c7776bb1d6b7a3c1fa62dbd533347e519f879e896"
 },
 "nbformat": 3,
 "nbformat_minor": 0,
 "worksheets": [
  {
   "cells": [
    {
     "cell_type": "code",
     "collapsed": false,
     "input": [
      "import pandas as pd\n",
      "import numpy as np\n",
      "\n",
      "\n",
      "import sys\n",
      "sys.path.insert(0, 'D:\\DEV\\ODMTools\\ODMToolsPython')\n",
      "#from odmdata import SessionFactory\n",
      "from odmservices import ServiceManager\n",
      "from datetime import datetime\n"
     ],
     "language": "python",
     "metadata": {},
     "outputs": [],
     "prompt_number": 18
    },
    {
     "cell_type": "code",
     "collapsed": false,
     "input": [
      "sm = ServiceManager()\n",
      "sm._current_conn_dict= {'engine':'mssql', 'user':'webapplication' , 'password':'W3bAppl1c4t10n!', 'address':'iutahdbs.uwrl.usu.edu', 'db':'iUTAH_Logan_OD'}\n",
      "   \n",
      "ss = sm.get_series_service()\n",
      "\n",
      "\n",
      "dvs = ss.get_series_by_id(1)\n",
      "#s= ss.get_series_by_id(20)\n",
      "#db = db + [x.list_repr() for x in dvs]\n",
      "\n",
      "db= [x.list_repr() for x in dvs.data_values]\n",
      "#datelist=[ x.local_date_time for x in dvs.data_values]\n",
      "#dates = pd.Series(datelist)\n",
      "\n",
      "#df = pd.DataFrame(db, index = dates, columns = [\"ValueID\"\n",
      "df = pd.DataFrame(db,  columns = [\"ValueID\"\n",
      "      ,\"DataValue\"\n",
      "      ,\"ValueAccuracy\"\n",
      "      ,\"LocalDateTime\"\n",
      "      ,\"UTCOffset\"\n",
      "      ,\"DateTimeUTC\"\n",
      "      ,\"SiteID\"\n",
      "      ,\"VariableID\"\n",
      "      ,\"OffsetValue\"\n",
      "      ,\"OffsetTypeID\"\n",
      "      ,\"CensorCode\"\n",
      "      ,\"QualifierID\"\n",
      "      ,\"MethodID\"\n",
      "      ,\"SourceID\"\n",
      "      ,\"SampleID\"\n",
      "      ,\"DerivedFromID\"\n",
      "      ,\"QualityControlLevelID\"])\n",
      "df.set_index([\"LocalDateTime\"], inplace=True)\n",
      "\n"
     ],
     "language": "python",
     "metadata": {},
     "outputs": [],
     "prompt_number": 76
    },
    {
     "cell_type": "code",
     "collapsed": false,
     "input": [
      "df.index\n",
      "\n"
     ],
     "language": "python",
     "metadata": {},
     "outputs": [
      {
       "metadata": {},
       "output_type": "pyout",
       "prompt_number": 78,
       "text": [
        "<class 'pandas.tseries.index.DatetimeIndex'>\n",
        "[2013-10-02 13:15:00, ..., 2014-12-22 15:45:00]\n",
        "Length: 42667, Freq: None, Timezone: None"
       ]
      }
     ],
     "prompt_number": 78
    },
    {
     "cell_type": "code",
     "collapsed": false,
     "input": [
      "#df.ix[\"2013-10-02\":\"2014-11-01\"]\n",
      "dt= datetime(2013,10,2,17,45,00)\n",
      "#df[dt:]\n",
      "import time\n",
      "start = time.clock()\n",
      "df[\"2013-10-2 17:30\":\"2013-10-2 17:30\"]\n",
      "end = time.clock()\n",
      "start2= time.clock()\n",
      "df.loc[\"2013-10-2 17:30:00\"]\n",
      "end2 = time.clock()\n",
      "print \"method 1 = %s, method 2 = %s\"%(str(end -start), str(end2-start2))\n"
     ],
     "language": "python",
     "metadata": {},
     "outputs": [
      {
       "output_type": "stream",
       "stream": "stdout",
       "text": [
        "method 1 = 0.00161716286806, method 2 = 0.0011777982632\n"
       ]
      }
     ],
     "prompt_number": 88
    },
    {
     "cell_type": "code",
     "collapsed": false,
     "input": [],
     "language": "python",
     "metadata": {},
     "outputs": []
    },
    {
     "cell_type": "code",
     "collapsed": false,
     "input": [],
     "language": "python",
     "metadata": {},
     "outputs": [],
     "prompt_number": 4
    }
   ],
   "metadata": {}
  }
 ]
}