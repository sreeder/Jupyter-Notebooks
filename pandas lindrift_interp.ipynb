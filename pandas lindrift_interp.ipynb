{
 "metadata": {
  "name": "",
  "signature": "sha256:687f7231bef8544bd25dc2af2f30fab47946ec5ad6fe272004a0443988d10f13"
 },
 "nbformat": 3,
 "nbformat_minor": 0,
 "worksheets": [
  {
   "cells": [
    {
     "cell_type": "code",
     "collapsed": false,
     "input": [
      "import pandas as pd\n",
      "import numpy as np\n",
      "from pandas.util.testing import assert_frame_equal\n",
      "\n",
      "import sys\n",
      "sys.path.insert(0, 'D:\\DEV\\ODMTools\\ODMToolsPython')\n",
      "#from odmdata import SessionFactory\n",
      "from odmtools.odmservices import ServiceManager\n",
      "from datetime import datetime\n",
      "from odmtools.odmdata import MemoryDatabase\n"
     ],
     "language": "python",
     "metadata": {},
     "outputs": [],
     "prompt_number": 1
    },
    {
     "cell_type": "code",
     "collapsed": false,
     "input": [
      "sm = ServiceManager()\n",
      "sm._current_conn_dict= {'engine':'mssql', 'user':'ODM' , 'password':'odm', 'address':'arroyo.uwrl.usu.edu', 'db':'TestODM'}\n",
      "   \n",
      "ss = sm.get_series_service()\n",
      "\n",
      "\n",
      "s= ss.get_series_by_id(18)\n",
      "\n",
      "db = [x.list_repr() for x in s.data_values]\n",
      "df = pd.DataFrame(db, columns = [\"ValueID\"\n",
      "      ,\"DataValue\"\n",
      "      ,\"ValueAccuracy\"\n",
      "      ,\"LocalDateTime\"\n",
      "      ,\"UTCOffset\"\n",
      "      ,\"DateTimeUTC\"\n",
      "      ,\"SiteID\"\n",
      "      ,\"VariableID\"\n",
      "      ,\"OffsetValue\"\n",
      "      ,\"OffsetTypeID\"\n",
      "      ,\"CensorCode\"\n",
      "      ,\"QualifierID\"\n",
      "      ,\"MethodID\"\n",
      "      ,\"SourceID\"\n",
      "      ,\"SampleID\"\n",
      "      ,\"DerivedFromID\"\n",
      "      ,\"QualityControlLevelID\"])\n",
      "df = df.set_index([\"LocalDateTime\"])\n",
      "fdf = pd.DataFrame()\n",
      "tc = np.timedelta64(30, 'm')"
     ],
     "language": "python",
     "metadata": {},
     "outputs": [],
     "prompt_number": 56
    },
    {
     "cell_type": "code",
     "collapsed": false,
     "input": [
      "\n",
      "def filter_value(value, ops):        \n",
      "        if ops == '>':\n",
      "            filtered_dataframe = df[df['DataValue'] > value]\n",
      "        if ops == '<':\n",
      "            filtered_dataframe = df[df['DataValue'] < value]"
     ],
     "language": "python",
     "metadata": {},
     "outputs": [],
     "prompt_number": 3
    },
    {
     "cell_type": "code",
     "collapsed": false,
     "input": [
      "fdf = df[df['DataValue'] > 5.5]#2.34]#2.75]"
     ],
     "language": "python",
     "metadata": {},
     "outputs": [],
     "prompt_number": 4
    },
    {
     "cell_type": "code",
     "collapsed": false,
     "input": [
      "tc = np.timedelta64(8*12*60, 'm')\n",
      "print fdf[\"DateTimeUTC\"].diff()\n",
      "fdf[\"DateTimeUTC\"].diff()> tc\n",
      "\n"
     ],
     "language": "python",
     "metadata": {},
     "outputs": [
      {
       "output_type": "stream",
       "stream": "stdout",
       "text": [
        "LocalDateTime\n",
        "1999-08-04 11:30:00                NaT\n",
        "1999-08-10 15:50:00    6 days 04:20:00\n",
        "1999-08-12 14:30:00    1 days 22:40:00\n",
        "1999-08-26 11:15:00   13 days 20:45:00\n",
        "Name: DateTimeUTC, dtype: timedelta64[ns]\n"
       ]
      },
      {
       "metadata": {},
       "output_type": "pyout",
       "prompt_number": 5,
       "text": [
        "LocalDateTime\n",
        "1999-08-04 11:30:00    False\n",
        "1999-08-10 15:50:00     True\n",
        "1999-08-12 14:30:00    False\n",
        "1999-08-26 11:15:00     True\n",
        "Name: DateTimeUTC, dtype: bool"
       ]
      }
     ],
     "prompt_number": 5
    },
    {
     "cell_type": "code",
     "collapsed": false,
     "input": [
      "found_group = False\n",
      "groups = []\n",
      "cur_group = []\n",
      "#df.count\n",
      "for x in df.index:\n",
      "    try: \n",
      "        fdf.loc[x]\n",
      "        if not found_group:\n",
      "            found_group = True\n",
      "        cur_group.append(x)  # Append the actual index to the point         \n",
      "    except:        \n",
      "        if found_group:        \n",
      "            found_group = False\n",
      "            groups.append(cur_group)\n",
      "            cur_group = []\n",
      "if found_group:\n",
      "    groups.append(cur_group)\n",
      "        \n",
      "print len(groups)\n",
      "for g in  groups:\n",
      "    print g\n",
      "        \n",
      "    "
     ],
     "language": "python",
     "metadata": {},
     "outputs": [
      {
       "output_type": "stream",
       "stream": "stdout",
       "text": [
        "1\n",
        "[Timestamp('1999-08-04 11:30:00'), Timestamp('1999-08-10 15:50:00'), Timestamp('1999-08-12 14:30:00'), Timestamp('1999-08-26 11:15:00')]\n"
       ]
      }
     ],
     "prompt_number": 6
    },
    {
     "cell_type": "code",
     "collapsed": false,
     "input": [
      "#interpolate selected values\n",
      "for x in fdf.index:\n",
      "    df.loc[x, \"DataValue\"]=np.nan\n",
      "df.interpolate(method = \"time\", inplace=True)\n",
      "\n",
      "\n",
      "#fast inplace way to set value to nan\n",
      "vals= df.index.isin(fdf.index)\n",
      "mdf= df[\"DataValue\"].mask(vals)\n",
      "mdf.interpolate(method = \"time\", inplace=True)\n",
      "mdf[vals]\n",
      "\n"
     ],
     "language": "python",
     "metadata": {},
     "outputs": [
      {
       "metadata": {},
       "output_type": "pyout",
       "prompt_number": 7,
       "text": [
        "LocalDateTime\n",
        "1999-08-04 11:30:00    3.286276\n",
        "1999-08-10 15:50:00    3.414855\n",
        "1999-08-12 14:30:00    3.455307\n",
        "1999-08-26 11:15:00    3.743742\n",
        "Name: DataValue, dtype: float64"
       ]
      }
     ],
     "prompt_number": 7
    },
    {
     "cell_type": "code",
     "collapsed": false,
     "input": [
      "#isOneGroup\n",
      "vals= df.index.isin(fdf.index)\n",
      "print vals\n",
      "found_group = False\n",
      "count = 0\n",
      "\n",
      "for x in vals:\n",
      "    if x:\n",
      "        if not found_group:\n",
      "            found_group=True\n",
      "            count =count+1        \n",
      "    else:\n",
      "        found_group = False\n",
      "        \n",
      "    if count >1:\n",
      "        print \"False\"\n",
      "        break\n",
      "if count == 1:\n",
      "    print \"True\"\n",
      "print count\n",
      "    \n"
     ],
     "language": "python",
     "metadata": {},
     "outputs": [
      {
       "output_type": "stream",
       "stream": "stdout",
       "text": [
        "[False False False False False False False False False  True  True  True\n",
        "  True False False False False]\n",
        "True\n",
        "1\n"
       ]
      }
     ],
     "prompt_number": 8
    },
    {
     "cell_type": "code",
     "collapsed": false,
     "input": [
      "\n",
      "testdf = fdf\n",
      "gap_width= 3\n",
      "sttime = testdf.index[0]\n",
      "x_l = (testdf.index[-1]-sttime).total_seconds()\n",
      "print x_l\n",
      "\n",
      "#update_list = []\n",
      "#for i in group:\n",
      "#    point = self._series_points[i]\n",
      "#    x_i = (point[2] - first_point[2]).total_seconds()\n",
      "    # y_n = y_0 + G(x_i / x_l)\n",
      "\n",
      "f = lambda row :  row[\"DataValue\"]+(gap_width * ((row.name-sttime).total_seconds() / x_l))\n",
      "#f = lambda row:  row[\"DataValue\"]\n",
      "testdf[\"DataValue\"]\n",
      "#print testdf[\"DataValue\"].apply(f)\n",
      "testdf[\"DataValue\"]= testdf.apply(f, axis = 1)\n",
      "print testdf"
     ],
     "language": "python",
     "metadata": {},
     "outputs": [
      {
       "output_type": "stream",
       "stream": "stdout",
       "text": [
        "1899900.0\n",
        "                     ValueID  DataValue ValueAccuracy  UTCOffset  \\\n",
        "LocalDateTime                                                      \n",
        "1999-08-04 11:30:00     5792   8.970000          None         -5   \n",
        "1999-08-10 15:50:00     5793   6.803202          None         -5   \n",
        "1999-08-12 14:30:00     5794   9.348479          None         -5   \n",
        "1999-08-26 11:15:00     5795   9.790000          None         -5   \n",
        "\n",
        "                            DateTimeUTC  SiteID  VariableID OffsetValue  \\\n",
        "LocalDateTime                                                             \n",
        "1999-08-04 11:30:00 1999-08-04 16:30:00       2           1        None   \n",
        "1999-08-10 15:50:00 1999-08-10 20:50:00       2           1        None   \n",
        "1999-08-12 14:30:00 1999-08-12 19:30:00       2           1        None   \n",
        "1999-08-26 11:15:00 1999-08-26 16:15:00       2           1        None   \n",
        "\n",
        "                    OffsetTypeID CensorCode QualifierID  MethodID  SourceID  \\\n",
        "LocalDateTime                                                                 \n",
        "1999-08-04 11:30:00         None         nc        None         7         1   \n",
        "1999-08-10 15:50:00         None         nc        None         7         1   \n",
        "1999-08-12 14:30:00         None         nc        None         7         1   \n",
        "1999-08-26 11:15:00         None         nc        None         7         1   \n",
        "\n",
        "                    SampleID DerivedFromID  QualityControlLevelID  \n",
        "LocalDateTime                                                      \n",
        "1999-08-04 11:30:00     None          None                  -9999  \n",
        "1999-08-10 15:50:00     None          None                  -9999  \n",
        "1999-08-12 14:30:00     None          None                  -9999  \n",
        "1999-08-26 11:15:00     None          None                  -9999  "
       ]
      },
      {
       "output_type": "stream",
       "stream": "stdout",
       "text": [
        "\n"
       ]
      },
      {
       "output_type": "stream",
       "stream": "stderr",
       "text": [
        "-c:18: SettingWithCopyWarning: \n",
        "A value is trying to be set on a copy of a slice from a DataFrame.\n",
        "Try using .loc[row_indexer,col_indexer] = value instead\n",
        "\n",
        "See the the caveats in the documentation: http://pandas.pydata.org/pandas-docs/stable/indexing.html#indexing-view-versus-copy\n"
       ]
      }
     ],
     "prompt_number": 9
    },
    {
     "cell_type": "code",
     "collapsed": false,
     "input": [
      "df.ix[0].name\n"
     ],
     "language": "python",
     "metadata": {},
     "outputs": [
      {
       "metadata": {},
       "output_type": "pyout",
       "prompt_number": 10,
       "text": [
        "Timestamp('1999-05-04 14:40:00')"
       ]
      }
     ],
     "prompt_number": 10
    },
    {
     "cell_type": "code",
     "collapsed": false,
     "input": [
      "print newdf\n",
      "[(row[\"DataValueld\"], row[\"ValueID\"]) for  index, row in  testdf.iterrows()]\n"
     ],
     "language": "python",
     "metadata": {},
     "outputs": [
      {
       "ename": "NameError",
       "evalue": "name 'newdf' is not defined",
       "output_type": "pyerr",
       "traceback": [
        "\u001b[1;31m---------------------------------------------------------------------------\u001b[0m\n\u001b[1;31mNameError\u001b[0m                                 Traceback (most recent call last)",
        "\u001b[1;32m<ipython-input-11-75ef6a70d427>\u001b[0m in \u001b[0;36m<module>\u001b[1;34m()\u001b[0m\n\u001b[1;32m----> 1\u001b[1;33m \u001b[1;32mprint\u001b[0m \u001b[0mnewdf\u001b[0m\u001b[1;33m\u001b[0m\u001b[0m\n\u001b[0m\u001b[0;32m      2\u001b[0m \u001b[1;33m[\u001b[0m\u001b[1;33m(\u001b[0m\u001b[0mrow\u001b[0m\u001b[1;33m[\u001b[0m\u001b[1;34m\"DataValueld\"\u001b[0m\u001b[1;33m]\u001b[0m\u001b[1;33m,\u001b[0m \u001b[0mrow\u001b[0m\u001b[1;33m[\u001b[0m\u001b[1;34m\"ValueID\"\u001b[0m\u001b[1;33m]\u001b[0m\u001b[1;33m)\u001b[0m \u001b[1;32mfor\u001b[0m  \u001b[0mindex\u001b[0m\u001b[1;33m,\u001b[0m \u001b[0mrow\u001b[0m \u001b[1;32min\u001b[0m  \u001b[0mtestdf\u001b[0m\u001b[1;33m.\u001b[0m\u001b[0miterrows\u001b[0m\u001b[1;33m(\u001b[0m\u001b[1;33m)\u001b[0m\u001b[1;33m]\u001b[0m\u001b[1;33m\u001b[0m\u001b[0m\n",
        "\u001b[1;31mNameError\u001b[0m: name 'newdf' is not defined"
       ]
      }
     ],
     "prompt_number": 11
    },
    {
     "cell_type": "code",
     "collapsed": false,
     "input": [
      "df[\"month\"]= df.apply(lambda row : row.name.month, axis = 1)\n",
      "df[\"month\"]= df.apply(lambda row : row.name.year, axis = 1)\n",
      "\n"
     ],
     "language": "python",
     "metadata": {},
     "outputs": [],
     "prompt_number": 12
    },
    {
     "cell_type": "code",
     "collapsed": false,
     "input": [
      "self.conn = sqlite3.connect(\":memory:\", detect_types=sqlite3.PARSE_DECLTYPES)\n",
      "        self.cursor = self.conn.cursor()\n",
      "\n",
      "query =\"SELECT DataValue, LocalDateTime, CensorCode, strftime('%m', LocalDateTime) as DateMonth, \" \\\n",
      "               \"strftime('%Y', LocalDateTime) as DateYear, Null AS DateSeason  FROM DataValues ORDER BY LocalDateTime\"\n",
      "        self.cursor.execute(query)\n",
      "        return pd.DataFrame(self.cursor.fetchall(), columns=self.columns)\n",
      "    \n",
      "    \n",
      "    "
     ],
     "language": "python",
     "metadata": {},
     "outputs": [
      {
       "ename": "IndentationError",
       "evalue": "unexpected indent (<ipython-input-13-d2326be458e5>, line 2)",
       "output_type": "pyerr",
       "traceback": [
        "\u001b[1;36m  File \u001b[1;32m\"<ipython-input-13-d2326be458e5>\"\u001b[1;36m, line \u001b[1;32m2\u001b[0m\n\u001b[1;33m    self.cursor = self.conn.cursor()\u001b[0m\n\u001b[1;37m    ^\u001b[0m\n\u001b[1;31mIndentationError\u001b[0m\u001b[1;31m:\u001b[0m unexpected indent\n"
       ]
      }
     ],
     "prompt_number": 13
    },
    {
     "cell_type": "code",
     "collapsed": false,
     "input": [
      "if not self.editLoaded:\n",
      "            logger.debug(\"Load series from db\")\n",
      "            series = self.series_service.get_series_by_id(seriesID)\n",
      "            logger.debug(\"Load series into memory db \")\n",
      "            self.DataValues = [(dv.id, dv.data_value, dv.value_accuracy, dv.local_date_time, dv.utc_offset, dv.date_time_utc,\n",
      "                dv.site_id, dv.variable_id, dv.offset_value, dv.offset_type_id, dv.censor_code,\n",
      "                dv.qualifier_id, dv.method_id, dv.source_id, dv.sample_id, dv.derived_from_id,\n",
      "                dv.quality_control_level_id) for dv in series.data_values]\n",
      "\n",
      "            self.cursor.executemany(\"INSERT INTO DataValues VALUES (?,?,?,?,?,?,?,?,?,?,?,?,?,?,?,?,?)\", self.DataValues)\n",
      "            self.conn.commit()\n",
      "            logger.debug(\"done loading\")\n",
      "            self.editLoaded = True"
     ],
     "language": "python",
     "metadata": {},
     "outputs": [],
     "prompt_number": 300
    },
    {
     "cell_type": "code",
     "collapsed": false,
     "input": [],
     "language": "python",
     "metadata": {},
     "outputs": [],
     "prompt_number": 17
    },
    {
     "cell_type": "code",
     "collapsed": false,
     "input": [],
     "language": "python",
     "metadata": {},
     "outputs": [],
     "prompt_number": 79
    },
    {
     "cell_type": "code",
     "collapsed": false,
     "input": [],
     "language": "python",
     "metadata": {},
     "outputs": [],
     "prompt_number": 50
    },
    {
     "cell_type": "code",
     "collapsed": false,
     "input": [],
     "language": "python",
     "metadata": {},
     "outputs": [],
     "prompt_number": 50
    },
    {
     "cell_type": "code",
     "collapsed": false,
     "input": [],
     "language": "python",
     "metadata": {},
     "outputs": [],
     "prompt_number": 50
    },
    {
     "cell_type": "code",
     "collapsed": false,
     "input": [],
     "language": "python",
     "metadata": {},
     "outputs": [],
     "prompt_number": 43
    },
    {
     "cell_type": "code",
     "collapsed": false,
     "input": [],
     "language": "python",
     "metadata": {},
     "outputs": []
    }
   ],
   "metadata": {}
  }
 ]
}