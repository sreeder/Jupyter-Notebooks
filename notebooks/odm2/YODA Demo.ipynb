{
 "cells": [
  {
   "cell_type": "code",
   "execution_count": 1,
   "metadata": {
    "collapsed": true
   },
   "outputs": [],
   "source": [
    "#Set up test ODM2 mysql database \n",
    "#https://github.com/ODM2/ODM2/blob/master/src/blank_schema_scripts/mysql/ODM2_for_MySQL.sql\n",
    "\n",
    "#run cvload.py script\n",
    "#https://github.com/ODM2/ODM2/tree/master/src/load_cvs\n",
    "\n",
    "\n",
    "#generate excel file \n",
    "#https://github.com/ODM2/YODA-File/blob/tsdev/ExcelTemplates/Prototypes/YODA_TimeSeries_TEMPLATE_WORKING.xlsm"
   ]
  },
  {
   "cell_type": "code",
   "execution_count": 3,
   "metadata": {
    "collapsed": false
   },
   "outputs": [
    {
     "ename": "ImportError",
     "evalue": "No module named odm2api",
     "output_type": "error",
     "traceback": [
      "\u001b[0;31m---------------------------------------------------------------------------\u001b[0m",
      "\u001b[0;31mImportError\u001b[0m                               Traceback (most recent call last)",
      "\u001b[0;32m<ipython-input-3-9693ab4b0732>\u001b[0m in \u001b[0;36m<module>\u001b[0;34m()\u001b[0m\n\u001b[1;32m      1\u001b[0m \u001b[0;31m#load libraries\u001b[0m\u001b[0;34m\u001b[0m\u001b[0;34m\u001b[0m\u001b[0m\n\u001b[0;32m----> 2\u001b[0;31m \u001b[0;32mimport\u001b[0m \u001b[0modm2api\u001b[0m\u001b[0;34m\u001b[0m\u001b[0m\n\u001b[0m\u001b[1;32m      3\u001b[0m \u001b[0;34m\u001b[0m\u001b[0m\n\u001b[1;32m      4\u001b[0m \u001b[0;32mfrom\u001b[0m \u001b[0modm2api\u001b[0m\u001b[0;34m.\u001b[0m\u001b[0mODM2\u001b[0m\u001b[0;34m.\u001b[0m\u001b[0mmodels\u001b[0m \u001b[0;32mimport\u001b[0m \u001b[0;34m*\u001b[0m\u001b[0;34m\u001b[0m\u001b[0m\n\u001b[1;32m      5\u001b[0m \u001b[0;32mfrom\u001b[0m \u001b[0modm2api\u001b[0m\u001b[0;34m.\u001b[0m\u001b[0mODMconnection\u001b[0m \u001b[0;32mimport\u001b[0m \u001b[0mdbconnection\u001b[0m\u001b[0;34m\u001b[0m\u001b[0m\n",
      "\u001b[0;31mImportError\u001b[0m: No module named odm2api"
     ]
    }
   ],
   "source": [
    "#load libraries\n",
    "\n",
    "\n",
    "from api.ODM2.models import *\n",
    "from api.ODMconnection import dbconnection\n",
    "import sys \n",
    "sys.path.append(\"D:\\DEV\\YODA-Tools\\src\")\n",
    "from YAML.yamlFunctions import YamlFunctions\n",
    "\n",
    "\n",
    "#create db connection \n",
    "session_factory = dbconnection.createConnection('mysql', \"localhost\", 'ODM2', 'ODM', 'odm')\n",
    "_session = session_factory.getSession()\n",
    "_engine = session_factory.engine\n",
    "\n"
   ]
  },
  {
   "cell_type": "code",
   "execution_count": 4,
   "metadata": {
    "collapsed": true
   },
   "outputs": [],
   "source": [
    "import pip"
   ]
  },
  {
   "cell_type": "code",
   "execution_count": 14,
   "metadata": {
    "collapsed": false
   },
   "outputs": [
    {
     "name": "stdout",
     "output_type": "stream",
     "text": [
      "<YODA Field FOUND! ... Manually removing it using 'dict.pop'> else it'll crash the program as sqlalchemy doesn't know what to do with it\n",
      "Found TimeSeriesResults\n",
      "Modules:  [<module 'api.ODM2.models' from 'd:\\dev\\odm2pythonapi\\src\\api\\ODM2\\models.pyc'>]\n"
     ]
    },
    {
     "ename": "InvalidRequestError",
     "evalue": "This Session's transaction has been rolled back due to a previous exception during flush. To begin a new transaction with this Session, first issue Session.rollback(). Original exception was: (pymysql.err.IntegrityError) (1062, u\"Duplicate entry 'DE207A27-AB2D-496A-BC08-B276538819FB' for key 'DatasetUUID'\") [SQL: u'INSERT INTO odm2.datasets (datasetuuid, datasettypecv, datasetcode, datasettitle, datasetabstract) VALUES (%s, %s, %s, %s, %s)'] [parameters: ('DE207A27-AB2D-496A-BC08-B276538819FB', 'Multi-time series', 'TWDEF_AirTemp', 'Air temperature at the TW Daniels Experimental Forest Climate Station', 'Air temperature at the TW Daniels Experimental Forest Climate Station. The data were measured using a Campbell Scientific HC2S3 temperature and relative humidity sensor. Measurements represent the average over the 15 minute recording period.')]",
     "output_type": "error",
     "traceback": [
      "\u001b[1;31m---------------------------------------------------------------------------\u001b[0m",
      "\u001b[1;31mInvalidRequestError\u001b[0m                       Traceback (most recent call last)",
      "\u001b[1;32m<ipython-input-14-a42474c452e4>\u001b[0m in \u001b[0;36m<module>\u001b[1;34m()\u001b[0m\n\u001b[0;32m      3\u001b[0m \u001b[1;33m\u001b[0m\u001b[0m\n\u001b[0;32m      4\u001b[0m \u001b[0myaml_load\u001b[0m \u001b[1;33m=\u001b[0m \u001b[0mYamlFunctions\u001b[0m\u001b[1;33m(\u001b[0m\u001b[0m_session\u001b[0m\u001b[1;33m,\u001b[0m \u001b[0m_engine\u001b[0m\u001b[1;33m)\u001b[0m\u001b[1;33m\u001b[0m\u001b[0m\n\u001b[1;32m----> 5\u001b[1;33m \u001b[0myaml_load\u001b[0m\u001b[1;33m.\u001b[0m\u001b[0mloadFromFile\u001b[0m\u001b[1;33m(\u001b[0m\u001b[0mYODAfile\u001b[0m\u001b[1;33m)\u001b[0m\u001b[1;33m\u001b[0m\u001b[0m\n\u001b[0m\u001b[0;32m      6\u001b[0m \u001b[1;33m\u001b[0m\u001b[0m\n\u001b[0;32m      7\u001b[0m \u001b[1;32mprint\u001b[0m\u001b[1;33m(\u001b[0m\u001b[1;33m)\u001b[0m\u001b[1;33m\u001b[0m\u001b[0m\n",
      "\u001b[1;32mD:\\DEV\\YODA-Tools\\src\\YAML\\yamlFunctions.pyc\u001b[0m in \u001b[0;36mloadFromFile\u001b[1;34m(self, filename)\u001b[0m\n\u001b[0;32m     81\u001b[0m \u001b[1;33m\u001b[0m\u001b[0m\n\u001b[0;32m     82\u001b[0m         \u001b[0myl\u001b[0m \u001b[1;33m=\u001b[0m \u001b[0mYamlLoader\u001b[0m\u001b[1;33m(\u001b[0m\u001b[0mmodels\u001b[0m\u001b[1;33m)\u001b[0m\u001b[1;33m\u001b[0m\u001b[0m\n\u001b[1;32m---> 83\u001b[1;33m         \u001b[0myl\u001b[0m\u001b[1;33m.\u001b[0m\u001b[0mfrom_list\u001b[0m\u001b[1;33m(\u001b[0m\u001b[0mself\u001b[0m\u001b[1;33m.\u001b[0m\u001b[0m_session\u001b[0m\u001b[1;33m,\u001b[0m \u001b[1;33m[\u001b[0m\u001b[0ms\u001b[0m\u001b[1;33m]\u001b[0m\u001b[1;33m)\u001b[0m\u001b[1;33m\u001b[0m\u001b[0m\n\u001b[0m\u001b[0;32m     84\u001b[0m \u001b[1;33m\u001b[0m\u001b[0m\n\u001b[0;32m     85\u001b[0m         \u001b[1;31m# load the Time Series Result information\u001b[0m\u001b[1;33m\u001b[0m\u001b[1;33m\u001b[0m\u001b[0m\n",
      "\u001b[1;32mD:\\DEV\\YODA-Tools\\src\\YAML\\bootalchemy\\loader.pyc\u001b[0m in \u001b[0;36mfrom_list\u001b[1;34m(self, session, data)\u001b[0m\n\u001b[0;32m    573\u001b[0m                         \u001b[0mklass\u001b[0m \u001b[1;33m=\u001b[0m \u001b[0mself\u001b[0m\u001b[1;33m.\u001b[0m\u001b[0mget_klass\u001b[0m\u001b[1;33m(\u001b[0m\u001b[0mname\u001b[0m\u001b[1;33m)\u001b[0m\u001b[1;33m\u001b[0m\u001b[0m\n\u001b[0;32m    574\u001b[0m                         \u001b[1;31m# print klass, '\\n'\u001b[0m\u001b[1;33m\u001b[0m\u001b[1;33m\u001b[0m\u001b[0m\n\u001b[1;32m--> 575\u001b[1;33m                         \u001b[0mself\u001b[0m\u001b[1;33m.\u001b[0m\u001b[0madd_klasses\u001b[0m\u001b[1;33m(\u001b[0m\u001b[0mklass\u001b[0m\u001b[1;33m,\u001b[0m \u001b[0mitems\u001b[0m\u001b[1;33m)\u001b[0m\u001b[1;33m\u001b[0m\u001b[0m\n\u001b[0m\u001b[0;32m    576\u001b[0m \u001b[1;33m\u001b[0m\u001b[0m\n\u001b[0;32m    577\u001b[0m                 \u001b[1;31m# session.flush()\u001b[0m\u001b[1;33m\u001b[0m\u001b[1;33m\u001b[0m\u001b[0m\n",
      "\u001b[1;32mD:\\DEV\\YODA-Tools\\src\\YAML\\bootalchemy\\loader.pyc\u001b[0m in \u001b[0;36madd_klasses\u001b[1;34m(self, klass, items)\u001b[0m\n\u001b[0;32m    487\u001b[0m         \u001b[0mobjects\u001b[0m \u001b[1;33m=\u001b[0m \u001b[1;33m[\u001b[0m\u001b[1;33m]\u001b[0m\u001b[1;33m\u001b[0m\u001b[0m\n\u001b[0;32m    488\u001b[0m         \u001b[1;32mfor\u001b[0m \u001b[0mitem\u001b[0m \u001b[1;32min\u001b[0m \u001b[0mitems\u001b[0m\u001b[1;33m:\u001b[0m\u001b[1;33m\u001b[0m\u001b[0m\n\u001b[1;32m--> 489\u001b[1;33m             \u001b[0mobj\u001b[0m \u001b[1;33m=\u001b[0m \u001b[0mself\u001b[0m\u001b[1;33m.\u001b[0m\u001b[0madd_klass_with_values\u001b[0m\u001b[1;33m(\u001b[0m\u001b[0mklass\u001b[0m\u001b[1;33m,\u001b[0m \u001b[0mitem\u001b[0m\u001b[1;33m)\u001b[0m\u001b[1;33m\u001b[0m\u001b[0m\n\u001b[0m\u001b[0;32m    490\u001b[0m             \u001b[0mobjects\u001b[0m\u001b[1;33m.\u001b[0m\u001b[0mappend\u001b[0m\u001b[1;33m(\u001b[0m\u001b[0mobj\u001b[0m\u001b[1;33m)\u001b[0m\u001b[1;33m\u001b[0m\u001b[0m\n\u001b[0;32m    491\u001b[0m         \u001b[1;32mreturn\u001b[0m \u001b[0mobjects\u001b[0m\u001b[1;33m\u001b[0m\u001b[0m\n",
      "\u001b[1;32mD:\\DEV\\YODA-Tools\\src\\YAML\\bootalchemy\\loader.pyc\u001b[0m in \u001b[0;36madd_klass_with_values\u001b[1;34m(self, klass, values)\u001b[0m\n\u001b[0;32m    292\u001b[0m             \u001b[1;31m# if \"ID\" in key and \"UUID\" not in key:\u001b[0m\u001b[1;33m\u001b[0m\u001b[1;33m\u001b[0m\u001b[0m\n\u001b[0;32m    293\u001b[0m             \u001b[1;32mif\u001b[0m \u001b[0mvalue\u001b[0m \u001b[1;32mand\u001b[0m \u001b[0misinstance\u001b[0m\u001b[1;33m(\u001b[0m\u001b[0mvalue\u001b[0m\u001b[1;33m,\u001b[0m \u001b[0mbasestring\u001b[0m\u001b[1;33m)\u001b[0m \u001b[1;32mand\u001b[0m \u001b[0mvalue\u001b[0m\u001b[1;33m.\u001b[0m\u001b[0mstartswith\u001b[0m\u001b[1;33m(\u001b[0m\u001b[1;34m'*'\u001b[0m\u001b[1;33m)\u001b[0m\u001b[1;33m:\u001b[0m\u001b[1;33m\u001b[0m\u001b[0m\n\u001b[1;32m--> 294\u001b[1;33m                 \u001b[0mvalue\u001b[0m \u001b[1;33m=\u001b[0m \u001b[0mself\u001b[0m\u001b[1;33m.\u001b[0m\u001b[0mobtain_object_id\u001b[0m\u001b[1;33m(\u001b[0m\u001b[0mkey\u001b[0m\u001b[1;33m,\u001b[0m \u001b[0mvalue\u001b[0m\u001b[1;33m)\u001b[0m\u001b[1;33m\u001b[0m\u001b[0m\n\u001b[0m\u001b[0;32m    295\u001b[0m                 \u001b[1;31m# key, value = self.obtain_key_value(key, value, resolved_values)\u001b[0m\u001b[1;33m\u001b[0m\u001b[1;33m\u001b[0m\u001b[0m\n\u001b[0;32m    296\u001b[0m \u001b[1;33m\u001b[0m\u001b[0m\n",
      "\u001b[1;32mD:\\DEV\\YODA-Tools\\src\\YAML\\bootalchemy\\loader.pyc\u001b[0m in \u001b[0;36mobtain_object_id\u001b[1;34m(self, key, value)\u001b[0m\n\u001b[0;32m    314\u001b[0m \u001b[1;33m\u001b[0m\u001b[0m\n\u001b[0;32m    315\u001b[0m     \u001b[1;32mdef\u001b[0m \u001b[0mobtain_object_id\u001b[0m\u001b[1;33m(\u001b[0m\u001b[0mself\u001b[0m\u001b[1;33m,\u001b[0m \u001b[0mkey\u001b[0m\u001b[1;33m,\u001b[0m \u001b[0mvalue\u001b[0m\u001b[1;33m)\u001b[0m\u001b[1;33m:\u001b[0m\u001b[1;33m\u001b[0m\u001b[0m\n\u001b[1;32m--> 316\u001b[1;33m         \u001b[0mself\u001b[0m\u001b[1;33m.\u001b[0m\u001b[0msession\u001b[0m\u001b[1;33m.\u001b[0m\u001b[0mflush\u001b[0m\u001b[1;33m(\u001b[0m\u001b[1;33m)\u001b[0m\u001b[1;33m\u001b[0m\u001b[0m\n\u001b[0m\u001b[0;32m    317\u001b[0m \u001b[1;33m\u001b[0m\u001b[0m\n\u001b[0;32m    318\u001b[0m         \u001b[0mref\u001b[0m \u001b[1;33m=\u001b[0m \u001b[0mNone\u001b[0m\u001b[1;33m\u001b[0m\u001b[0m\n",
      "\u001b[1;32mC:\\Anaconda\\envs\\sdl\\lib\\site-packages\\sqlalchemy\\orm\\session.pyc\u001b[0m in \u001b[0;36mflush\u001b[1;34m(self, objects)\u001b[0m\n\u001b[0;32m   2002\u001b[0m         \u001b[1;32mtry\u001b[0m\u001b[1;33m:\u001b[0m\u001b[1;33m\u001b[0m\u001b[0m\n\u001b[0;32m   2003\u001b[0m             \u001b[0mself\u001b[0m\u001b[1;33m.\u001b[0m\u001b[0m_flushing\u001b[0m \u001b[1;33m=\u001b[0m \u001b[0mTrue\u001b[0m\u001b[1;33m\u001b[0m\u001b[0m\n\u001b[1;32m-> 2004\u001b[1;33m             \u001b[0mself\u001b[0m\u001b[1;33m.\u001b[0m\u001b[0m_flush\u001b[0m\u001b[1;33m(\u001b[0m\u001b[0mobjects\u001b[0m\u001b[1;33m)\u001b[0m\u001b[1;33m\u001b[0m\u001b[0m\n\u001b[0m\u001b[0;32m   2005\u001b[0m         \u001b[1;32mfinally\u001b[0m\u001b[1;33m:\u001b[0m\u001b[1;33m\u001b[0m\u001b[0m\n\u001b[0;32m   2006\u001b[0m             \u001b[0mself\u001b[0m\u001b[1;33m.\u001b[0m\u001b[0m_flushing\u001b[0m \u001b[1;33m=\u001b[0m \u001b[0mFalse\u001b[0m\u001b[1;33m\u001b[0m\u001b[0m\n",
      "\u001b[1;32mC:\\Anaconda\\envs\\sdl\\lib\\site-packages\\sqlalchemy\\orm\\session.pyc\u001b[0m in \u001b[0;36m_flush\u001b[1;34m(self, objects)\u001b[0m\n\u001b[0;32m   2080\u001b[0m \u001b[1;33m\u001b[0m\u001b[0m\n\u001b[0;32m   2081\u001b[0m         flush_context.transaction = transaction = self.begin(\n\u001b[1;32m-> 2082\u001b[1;33m             subtransactions=True)\n\u001b[0m\u001b[0;32m   2083\u001b[0m         \u001b[1;32mtry\u001b[0m\u001b[1;33m:\u001b[0m\u001b[1;33m\u001b[0m\u001b[0m\n\u001b[0;32m   2084\u001b[0m             \u001b[0mself\u001b[0m\u001b[1;33m.\u001b[0m\u001b[0m_warn_on_events\u001b[0m \u001b[1;33m=\u001b[0m \u001b[0mTrue\u001b[0m\u001b[1;33m\u001b[0m\u001b[0m\n",
      "\u001b[1;32mC:\\Anaconda\\envs\\sdl\\lib\\site-packages\\sqlalchemy\\orm\\session.pyc\u001b[0m in \u001b[0;36mbegin\u001b[1;34m(self, subtransactions, nested)\u001b[0m\n\u001b[0;32m    712\u001b[0m             \u001b[1;32mif\u001b[0m \u001b[0msubtransactions\u001b[0m \u001b[1;32mor\u001b[0m \u001b[0mnested\u001b[0m\u001b[1;33m:\u001b[0m\u001b[1;33m\u001b[0m\u001b[0m\n\u001b[0;32m    713\u001b[0m                 self.transaction = self.transaction._begin(\n\u001b[1;32m--> 714\u001b[1;33m                     nested=nested)\n\u001b[0m\u001b[0;32m    715\u001b[0m             \u001b[1;32melse\u001b[0m\u001b[1;33m:\u001b[0m\u001b[1;33m\u001b[0m\u001b[0m\n\u001b[0;32m    716\u001b[0m                 raise sa_exc.InvalidRequestError(\n",
      "\u001b[1;32mC:\\Anaconda\\envs\\sdl\\lib\\site-packages\\sqlalchemy\\orm\\session.pyc\u001b[0m in \u001b[0;36m_begin\u001b[1;34m(self, nested)\u001b[0m\n\u001b[0;32m    233\u001b[0m \u001b[1;33m\u001b[0m\u001b[0m\n\u001b[0;32m    234\u001b[0m     \u001b[1;32mdef\u001b[0m \u001b[0m_begin\u001b[0m\u001b[1;33m(\u001b[0m\u001b[0mself\u001b[0m\u001b[1;33m,\u001b[0m \u001b[0mnested\u001b[0m\u001b[1;33m=\u001b[0m\u001b[0mFalse\u001b[0m\u001b[1;33m)\u001b[0m\u001b[1;33m:\u001b[0m\u001b[1;33m\u001b[0m\u001b[0m\n\u001b[1;32m--> 235\u001b[1;33m         \u001b[0mself\u001b[0m\u001b[1;33m.\u001b[0m\u001b[0m_assert_active\u001b[0m\u001b[1;33m(\u001b[0m\u001b[1;33m)\u001b[0m\u001b[1;33m\u001b[0m\u001b[0m\n\u001b[0m\u001b[0;32m    236\u001b[0m         return SessionTransaction(\n\u001b[0;32m    237\u001b[0m             self.session, self, nested=nested)\n",
      "\u001b[1;32mC:\\Anaconda\\envs\\sdl\\lib\\site-packages\\sqlalchemy\\orm\\session.pyc\u001b[0m in \u001b[0;36m_assert_active\u001b[1;34m(self, prepared_ok, rollback_ok, deactive_ok, closed_msg)\u001b[0m\n\u001b[0;32m    212\u001b[0m                         \u001b[1;34m\"first issue Session.rollback().\"\u001b[0m\u001b[1;33m\u001b[0m\u001b[0m\n\u001b[0;32m    213\u001b[0m                         \u001b[1;34m\" Original exception was: %s\"\u001b[0m\u001b[1;33m\u001b[0m\u001b[0m\n\u001b[1;32m--> 214\u001b[1;33m                         \u001b[1;33m%\u001b[0m \u001b[0mself\u001b[0m\u001b[1;33m.\u001b[0m\u001b[0m_rollback_exception\u001b[0m\u001b[1;33m\u001b[0m\u001b[0m\n\u001b[0m\u001b[0;32m    215\u001b[0m                     )\n\u001b[0;32m    216\u001b[0m                 \u001b[1;32melif\u001b[0m \u001b[1;32mnot\u001b[0m \u001b[0mdeactive_ok\u001b[0m\u001b[1;33m:\u001b[0m\u001b[1;33m\u001b[0m\u001b[0m\n",
      "\u001b[1;31mInvalidRequestError\u001b[0m: This Session's transaction has been rolled back due to a previous exception during flush. To begin a new transaction with this Session, first issue Session.rollback(). Original exception was: (pymysql.err.IntegrityError) (1062, u\"Duplicate entry 'DE207A27-AB2D-496A-BC08-B276538819FB' for key 'DatasetUUID'\") [SQL: u'INSERT INTO odm2.datasets (datasetuuid, datasettypecv, datasetcode, datasettitle, datasetabstract) VALUES (%s, %s, %s, %s, %s)'] [parameters: ('DE207A27-AB2D-496A-BC08-B276538819FB', 'Multi-time series', 'TWDEF_AirTemp', 'Air temperature at the TW Daniels Experimental Forest Climate Station', 'Air temperature at the TW Daniels Experimental Forest Climate Station. The data were measured using a Campbell Scientific HC2S3 temperature and relative humidity sensor. Measurements represent the average over the 15 minute recording period.')]"
     ]
    }
   ],
   "source": [
    "#Load Yaml file into DB structure\n",
    "YODAfile = \"C:/Users/Stephanie/Desktop/YODA_TimeSeries_TEMPLATE_WORKING.xlsm.yaml\"\n",
    "\n",
    "yaml_load = YamlFunctions(_session, _engine)\n",
    "yaml_load.loadFromFile(YODAfile)\n",
    "\n",
    "print()\n",
    "print(\"-------- Performance Results using python module: timeit --------\")\n",
    "print(\"Loaded YAML file in \", timeit.default_timer() - start, \" seconds\")\n",
    "\n",
    "\n"
   ]
  },
  {
   "cell_type": "code",
   "execution_count": null,
   "metadata": {
    "collapsed": true
   },
   "outputs": [],
   "source": [
    "#Double check the data you just loaded\n",
    "persons = _session.query(People).limit(50).all()\n",
    "pp.pprint(\"---Example YAML reading <People>---\")\n",
    "pp.pprint(persons)\n",
    "datasets = _session.query(DataSets).limit(50).all()\n",
    "pp.pprint(\"---Example YAML reading <DataSets>---\")\n",
    "pp.pprint(datasets)\n",
    "sampling_features = _session.query(SamplingFeatures).limit(50).all()\n",
    "pp.pprint(\"---Example YAML reading <SamplingFeatures>---\")\n",
    "pp.pprint(sampling_features)\n",
    "sites = _session.query(Sites).limit(50).all()\n",
    "pp.pprint(\"---Example YAML reading <Sites>---\")\n",
    "pp.pprint(sites)\n",
    "methods = _session.query(Methods).limit(50).all()\n",
    "pp.pprint(\"---Example YAML reading <Methods>---\")\n",
    "pp.pprint(methods)\n",
    "variables = _session.query(Variables).limit(50).all()\n",
    "pp.pprint(\"---Example YAML reading <Variables>---\")\n",
    "pp.pprint(variables)\n",
    "units = _session.query(Units).limit(50).all()\n",
    "pp.pprint(\"---Example YAML reading <Units>---\")\n",
    "pp.pprint(units)\n",
    "processing_levels = _session.query(ProcessingLevels).limit(50).all()\n",
    "pp.pprint(\"---Example YAML reading <ProcessingLevels>---\")\n",
    "pp.pprint(processing_levels)\n",
    "actions = _session.query(Actions).limit(50).all()\n",
    "pp.pprint(\"---Example YAML reading <Actions>---\")\n",
    "pp.pprint(actions)\n",
    "results = _session.query(Results).limit(50).all()\n",
    "pp.pprint(\"---Example YAML reading <Results>---\")\n",
    "pp.pprint(results)\n",
    "time_series_results = _session.query(TimeSeriesResults).limit(50).all()\n",
    "pp.pprint(\"---Example YAML reading <TimeSeriesResults>---\")\n",
    "pp.pprint(time_series_results)\n",
    "\n",
    "time_series_result_values = _session.query(TimeSeriesResultValues).limit(50).all()\n",
    "pp.pprint(\"--Example YAML reading <TimeSeriesResultValues>--\")\n",
    "pp.pprint(time_series_result_values)"
   ]
  },
  {
   "cell_type": "code",
   "execution_count": null,
   "metadata": {
    "collapsed": true
   },
   "outputs": [],
   "source": [
    "#save to the database\n",
    "yaml_load._session.commit()"
   ]
  }
 ],
 "metadata": {
  "kernelspec": {
   "display_name": "Python 2",
   "language": "python",
   "name": "python2"
  },
  "language_info": {
   "codemirror_mode": {
    "name": "ipython",
    "version": 2
   },
   "file_extension": ".py",
   "mimetype": "text/x-python",
   "name": "python",
   "nbconvert_exporter": "python",
   "pygments_lexer": "ipython2",
   "version": "2.7.10"
  }
 },
 "nbformat": 4,
 "nbformat_minor": 0
}
