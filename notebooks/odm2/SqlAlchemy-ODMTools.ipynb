{
 "cells": [
  {
   "cell_type": "code",
   "execution_count": 2,
   "metadata": {
    "collapsed": false
   },
   "outputs": [],
   "source": [
    "import sqlalchemy\n",
    "import numpy as np\n",
    "\n",
    "import sys\n",
    "import os\n",
    "import pandas as pd\n",
    "from odm2api.ODM2.models import Actions\n",
    "this_file = os.path.dirname(\"//Users/Stephanie/DEV/ODMToolsPython/odmtools\")\n",
    "#this_file = os.path.dirname(\"D://DEV/ODMToolsPython/\")\n",
    "\n",
    "sys.path.insert(0, this_file)\n",
    "print sys.path\n",
    "\n",
    "from odmservices import ServiceManager\n",
    "\n",
    "sm = ServiceManager()\n",
    "sm._current_conn_dict= {'engine':'mysql', 'user':'ODM', 'password':'ODM123!!', 'address':'jws.uwrl.usu.edu', 'db':'ODM2', 'version':2.0}\n",
    "ss = sm.get_series_service()\n"
   ]
  },
  {
   "cell_type": "code",
   "execution_count": 3,
   "metadata": {
    "collapsed": false
   },
   "outputs": [
    {
     "name": "stdout",
     "output_type": "stream",
     "text": [
      "<Results('37', '85D74A4B-FD6E-E511-9449-6C4008BF018F', 'Time series coverage', '0', '31')>\n"
     ]
    }
   ],
   "source": [
    "dvs = ss.get_values(37)\n",
    "ser = ss.get_series(series_id = 37)\n",
    "print ser"
   ]
  },
  {
   "cell_type": "code",
   "execution_count": 4,
   "metadata": {
    "collapsed": false
   },
   "outputs": [
    {
     "name": "stdout",
     "output_type": "stream",
     "text": [
      "<Actions('None', 'Derivation', '2011-08-01 00:00:00', 'Sensor deployment and \r\n",
      "\tobservation. This is a generic Observation Action created for a Time Series \r\n",
      "\tResult loaded into ODM2\tfrom an ODM 1.1.1 database.')>\n"
     ]
    }
   ],
   "source": [
    "action=Actions()#\n",
    "a=ser.FeatureActionObj.ActionObj\n",
    "\n",
    "action.ActionDescription= a.ActionDescription\n",
    "action.ActionFileLink = a.ActionFileLink\n",
    "action.BeginDateTime = a.BeginDateTime\n",
    "action.BeginDateTimeUTCOffset = -7\n",
    "action.EndDateTime=a.EndDateTime\n",
    "action.EndDateTimeUTCOffset= -7\n",
    "action.MethodID = a.MethodID\n",
    "\n",
    "action.ActionTypeCV=\"Derivation\"\n",
    "print action"
   ]
  },
  {
   "cell_type": "code",
   "execution_count": 7,
   "metadata": {
    "collapsed": false
   },
   "outputs": [
    {
     "name": "stdout",
     "output_type": "stream",
     "text": [
      "<Actions('882', 'Derivation', '2011-08-01 00:00:00', 'Sensor deployment and \r\n",
      "\tobservation. This is a generic Observation Action created for a Time Series \r\n",
      "\tResult loaded into ODM2\tfrom an ODM 1.1.1 database.')>\n"
     ]
    }
   ],
   "source": [
    "\n",
    "newaction = ss.create.createAction(action)\n",
    "print newaction"
   ]
  },
  {
   "cell_type": "code",
   "execution_count": null,
   "metadata": {
    "collapsed": true
   },
   "outputs": [],
   "source": []
  }
 ],
 "metadata": {
  "kernelspec": {
   "display_name": "Python 2",
   "language": "python",
   "name": "python2"
  },
  "language_info": {
   "codemirror_mode": {
    "name": "ipython",
    "version": 2
   },
   "file_extension": ".py",
   "mimetype": "text/x-python",
   "name": "python",
   "nbconvert_exporter": "python",
   "pygments_lexer": "ipython2",
   "version": "2.7.12"
  }
 },
 "nbformat": 4,
 "nbformat_minor": 0
}
