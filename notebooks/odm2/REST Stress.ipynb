{
 "cells": [
  {
   "cell_type": "code",
   "execution_count": 37,
   "metadata": {
    "collapsed": true
   },
   "outputs": [],
   "source": [
    "# multiproc_test.py\n",
    "\n",
    "import random\n",
    "import multiprocessing\n",
    "# import threading\n",
    "import json\n",
    "import requests\n",
    "import datetime\n",
    "import timeit"
   ]
  },
  {
   "cell_type": "code",
   "execution_count": 38,
   "metadata": {
    "collapsed": false
   },
   "outputs": [],
   "source": [
    "def post_request(values, url, TOKEN, sf):\n",
    "    headers = {\"TOKEN\": TOKEN}\n",
    "    time = datetime.datetime.now().strftime(\"%Y-%m-%d %H:%M:%S\")\n",
    "    payload = {\"WindDir_Avg\":values[0], 'WindDir_Std': values[1], \"sampling_feature\":sf, \"timestamp\":time}\n",
    "    r= requests.post(url, headers =headers, json= payload)\n",
    "\n",
    "    if r.status_code != 201:\n",
    "        print r.text\n",
    "\n"
   ]
  },
  {
   "cell_type": "code",
   "execution_count": 39,
   "metadata": {
    "collapsed": false
   },
   "outputs": [],
   "source": [
    "def call_post():\n",
    "    url = 'http://django.uwrl.usu.edu/websdl/api/post_stuff/'\n",
    "    TOKEN= '6992840a-9b47-4594-9642-12a0a11de0cb'\n",
    "    sf = '466ff447-6645-4870-8cf0-f6845ea9542a'\n",
    "    rand1=random.random()\n",
    "    rand2=random.random()\n",
    "    post_request([rand1,rand2], url, TOKEN, sf)"
   ]
  },
  {
   "cell_type": "code",
   "execution_count": 40,
   "metadata": {
    "collapsed": false
   },
   "outputs": [
    {
     "name": "stdout",
     "output_type": "stream",
     "text": [
      "Machine gun approach complete.\n"
     ]
    }
   ],
   "source": [
    "# start timeit.timeit()\n",
    "\n",
    "procs = 1000   # Number of processes to create\n",
    "\n",
    "# Create a list of jobs and then iterate through\n",
    "# the number of processes appending each process to\n",
    "# the job list \n",
    "jobs = []\n",
    "for i in range(0, procs):\n",
    "    out_list = list()\n",
    "    process = multiprocessing.Process(target=call_post())\n",
    "    jobs.append(process)\n",
    "    \n",
    "# for i in range(0, threads):\n",
    "#     out_list = list()\n",
    "#     thread = threading.Thread(target=list_append(size, i, out_list))\n",
    "#     jobs.append(thread)\n",
    "\n",
    "\n",
    "# Start the processes \n",
    "for j in jobs:\n",
    "    j.start()\n",
    "\n",
    "# Ensure all of the processes have finished\n",
    "for j in jobs:\n",
    "    j.join()\n",
    "\n",
    "print \"Machine gun approach complete.\""
   ]
  },
  {
   "cell_type": "code",
   "execution_count": null,
   "metadata": {
    "collapsed": true
   },
   "outputs": [],
   "source": []
  }
 ],
 "metadata": {
  "kernelspec": {
   "display_name": "Python 2",
   "language": "python",
   "name": "python2"
  },
  "language_info": {
   "codemirror_mode": {
    "name": "ipython",
    "version": 2
   },
   "file_extension": ".py",
   "mimetype": "text/x-python",
   "name": "python",
   "nbconvert_exporter": "python",
   "pygments_lexer": "ipython2",
   "version": "2.7.12"
  }
 },
 "nbformat": 4,
 "nbformat_minor": 0
}
