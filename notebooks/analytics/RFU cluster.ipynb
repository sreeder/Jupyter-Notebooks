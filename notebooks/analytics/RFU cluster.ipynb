{
 "cells": [
  {
   "cell_type": "code",
   "execution_count": 40,
   "metadata": {
    "collapsed": false
   },
   "outputs": [],
   "source": [
    "import pymysql\n",
    "import pymongo\n",
    "from pymongo import MongoClient\n",
    "import numpy as np\n",
    "\n",
    "import matplotlib\n",
    "import matplotlib.pyplot as plt\n",
    "from mpl_toolkits.mplot3d import Axes3D\n",
    "%matplotlib inline\n",
    "\n",
    "\n",
    "from sklearn.cluster import KMeans\n",
    "from sklearn import datasets\n",
    "import scipy.cluster.hierarchy as hac\n",
    "\n",
    "import csv\n",
    "import json\n",
    "import pymysql\n",
    "\n",
    "import pandas as pd\n",
    "from datetime import datetime\n",
    "# import seaborn as sb\n"
   ]
  },
  {
   "cell_type": "code",
   "execution_count": 86,
   "metadata": {
    "collapsed": false
   },
   "outputs": [],
   "source": [
    "db_query= \"SELECT c.cus_fname AS FName, \"\\\n",
    "\"c.cus_lname AS LName, c.cus_city AS City, c.cus_dob AS DOB, p.pla_name AS Platform, \"\\\n",
    "\"it.itm_title AS Title, from_unixtime(i.inv_time) AS Date , NULL AS Decade, NULL AS Year, \"\\\n",
    "\"pr.prc_used AS used, pr.prc_new AS new, ii.ini_newused \"\\\n",
    "\"FROM rfu.invoices AS i \"\\\n",
    "\"JOIN rfu.customers AS c \"\\\n",
    "\" ON i.inv_customerID=c.cus_customerID \"\\\n",
    "\"JOIN rfu.invoice_items AS ii \"\\\n",
    "\" ON ii.ini_invoiceID = i.inv_invoiceID \"\\\n",
    "\"JOIN rfu.items AS it \"\\\n",
    "\" ON ii.ini_itemID = it.itm_itemID \"\\\n",
    "\"JOIN rfu.platforms AS p \"\\\n",
    "\" ON it.itm_platformID= p.pla_platformID \"\\\n",
    "\"JOIN rfu.prices AS pr \"\\\n",
    "\" ON it.itm_itemID = pr.prc_itemID;\"\n",
    "# 18 is new, 19 is used \n"
   ]
  },
  {
   "cell_type": "code",
   "execution_count": null,
   "metadata": {
    "collapsed": false
   },
   "outputs": [],
   "source": [
    "#read query, export to csv\n",
    "\n",
    "# conn = pymysql.connect(host='localhost', port=3306, user='root', \n",
    "#                        passwd='imkingoftheworld', db='rfu')\n",
    "\n",
    "# cur = conn.cursor()\n",
    "\n",
    "# cur.execute(db_query)\n",
    "\n",
    "# print(cur.description)\n",
    "# cols = [x[0] for x in cur.description]\n",
    "# # for i in range(10):\n",
    "# #     print cur[i]\n",
    "# #     print\n",
    "# # for row in cur:\n",
    "# #     print(row)\n",
    "\n",
    "# result = cur.fetchall()\n",
    "# fp = open(\"temp.csv\", \"w\")\n",
    "# c = csv.writer(fp)\n",
    "# c.writerow([\"fname\", \"lname\", \"city\", \"dob\", \"platform\", \"title\", \"time\"])\n",
    "# c.writerows(result)\n",
    "\n",
    "# fp.close()\n",
    "# cur.close()\n",
    "# conn.close()\n",
    "# print \"done with cursor\"\n"
   ]
  },
  {
   "cell_type": "code",
   "execution_count": 9,
   "metadata": {
    "collapsed": false
   },
   "outputs": [],
   "source": [
    "# #import csv to mongodb\n",
    "# client = MongoClient()\n",
    "# db = client.rfu\n",
    "# csvfile = open('temp.csv', 'r')\n",
    "# jsonfile = open('temp.json', 'a')\n",
    "# reader = csv.DictReader( csvfile )\n",
    "\n",
    "# header = [\"fname\", \"lname\", \"city\", \"dob\", \"platform\", \"title\", \"time\"]\n",
    "\n",
    "# output=[]\n",
    "# for each in reader:\n",
    "#     row={}\n",
    "#     for field in header:\n",
    "#         row[field]=each[field]\n",
    "#     output.append(row)\n",
    "\n",
    "# json.dump(output, jsonfile, indent=None, sort_keys=False , encoding=\"UTF-8\")\n",
    "# mongo_client=MongoClient() \n",
    "# db=mongo_client.october_mug_talk\n",
    "# db.segment.drop()\n",
    "# data=pd.read_csv('temp.json', error_bad_lines=0)\n",
    "# df = pd.DataFrame(data)\n",
    "# records = csv.DictReader(df)\n",
    "# db.segment.insert(records)"
   ]
  },
  {
   "cell_type": "code",
   "execution_count": 10,
   "metadata": {
    "collapsed": true
   },
   "outputs": [],
   "source": [
    "# print client.database_names()"
   ]
  },
  {
   "cell_type": "code",
   "execution_count": 87,
   "metadata": {
    "collapsed": false
   },
   "outputs": [
    {
     "name": "stdout",
     "output_type": "stream",
     "text": [
      "          FName                      LName        City        DOB  \\\n",
      "466408    David  Cunningham(Wrong Address)   Tremonton 1972-09-27   \n",
      "55597   Harmony                      Davis       Logan 1980-02-14   \n",
      "40070   Susanne                      Pella  Smithfield 2060-08-22   \n",
      "8444        Val                     Porter                    NaT   \n",
      "233810   Daniel                    Gregory  Providence 1993-10-21   \n",
      "\n",
      "               Platform                                              Title  \\\n",
      "466408        X-Box 360  Final Fantasy XI(11) **DON'T ACCEPT!!! ONLINE ...   \n",
      "55597   Gameboy Advance                       Midnight Club Street  Racing   \n",
      "40070           Gameboy                               Game & Watch Gallery   \n",
      "8444          Game Cube                                        Madden 2004   \n",
      "233810    Playstation 2                                    Madden NFL 2005   \n",
      "\n",
      "                      Date Decade  Year   used    new  ini_newused  \n",
      "466408 2013-10-17 10:18:35   None  None  14.99  19.99           19  \n",
      "55597  2009-04-23 19:44:05   None  None  12.99  14.99           19  \n",
      "40070  2006-06-20 13:08:59   None  None  14.99   0.00           19  \n",
      "8444   2007-12-08 20:05:29   None  None   4.99   9.99           19  \n",
      "233810 2012-10-27 16:14:03   None  None   4.99  14.99           19  \n"
     ]
    }
   ],
   "source": [
    "conn = pymysql.connect(host='localhost', port=3306, user='root', \n",
    "                       passwd='imkingoftheworld', db='rfu')\n",
    "funun=pd.read_sql(db_query, conn, parse_dates = [\"Date\", \"DOB\"] )\n",
    "print funun.sample(n=5)\n",
    "# pandas.read_sql(sql, con, index_col=None, coerce_float=True, params=None, parse_dates=None, columns=None, chunksize=None)[source]"
   ]
  },
  {
   "cell_type": "code",
   "execution_count": 88,
   "metadata": {
    "collapsed": false
   },
   "outputs": [
    {
     "name": "stdout",
     "output_type": "stream",
     "text": [
      "          FName    LName     City        DOB        Platform  \\\n",
      "21868      Duey     Gill                 NaT       Game Cube   \n",
      "481193     Kirk   Chaney  Preston 1991-03-15       X-Box 360   \n",
      "150970      Liz  Chausse                 NaT     Playstation   \n",
      "343161     Pete   Garcia                 NaT  Super Nintendo   \n",
      "148466  Jenifer   Kangas    Logan 1976-04-05     Nintendo DS   \n",
      "\n",
      "                                          Title                Date Decade  \\\n",
      "21868   Controller - Nintendo (Silver/Platinum) 2006-09-28 11:12:06   None   \n",
      "481193                             Fable III(3) 2015-03-03 13:03:16   None   \n",
      "150970                                 40 Winks 2015-07-08 16:45:50   None   \n",
      "343161                           Gradius III(3) 2011-02-19 18:52:03   None   \n",
      "148466                               Iron Man 2 2013-01-04 12:57:14   None   \n",
      "\n",
      "        Year   used    new  ini_newused  \n",
      "21868   None  24.99  39.99           19  \n",
      "481193  None   9.99  19.99           19  \n",
      "150970  None   7.99   0.00           19  \n",
      "343161  None  14.99   0.00           19  \n",
      "148466  None  17.99  19.99           19  \n"
     ]
    }
   ],
   "source": [
    "print funun.sample(n=5)"
   ]
  },
  {
   "cell_type": "code",
   "execution_count": 89,
   "metadata": {
    "collapsed": false
   },
   "outputs": [
    {
     "name": "stdout",
     "output_type": "stream",
     "text": [
      "<class 'pandas.tslib.Timestamp'>\n",
      "['__add__', '__class__', '__delattr__', '__dict__', '__doc__', '__eq__', '__format__', '__ge__', '__getattribute__', '__gt__', '__hash__', '__init__', '__le__', '__lt__', '__module__', '__ne__', '__new__', '__pyx_vtable__', '__qualname__', '__radd__', '__reduce__', '__reduce_ex__', '__repr__', '__rsub__', '__setattr__', '__setstate__', '__sizeof__', '__str__', '__sub__', '__subclasshook__', '__weakref__', '_date_repr', '_get_field', '_get_start_end_field', '_has_time_component', '_repr_base', '_round', '_time_repr', 'asm8', 'astimezone', 'ceil', 'combine', 'ctime', 'date', 'day', 'dayofweek', 'dayofyear', 'days_in_month', 'daysinmonth', 'dst', 'floor', 'freq', 'freqstr', 'fromordinal', 'fromtimestamp', 'hour', 'is_month_end', 'is_month_start', 'is_quarter_end', 'is_quarter_start', 'is_year_end', 'is_year_start', 'isocalendar', 'isoformat', 'isoweekday', 'max', 'microsecond', 'min', 'minute', 'month', 'nanosecond', 'normalize', 'now', 'offset', 'quarter', 'replace', 'resolution', 'round', 'second', 'strftime', 'strptime', 'time', 'timetuple', 'timetz', 'to_datetime', 'to_datetime64', 'to_julian_date', 'to_period', 'to_pydatetime', 'today', 'toordinal', 'tz', 'tz_convert', 'tz_localize', 'tzinfo', 'tzname', 'utcfromtimestamp', 'utcnow', 'utcoffset', 'utctimetuple', 'value', 'week', 'weekday', 'weekday_name', 'weekofyear', 'year']\n",
      "1986\n"
     ]
    }
   ],
   "source": [
    "# funun['DOB']=pd.to_datetime(funun['DOB']), format='%d-%m-%Y %H:%M:%S'\n",
    "\n",
    "# def is_in_range(x):\n",
    "#    if x['Date'] > '28-02-2010 00:00:00' and x['Date'] < '31-08-2014 00:00:00':\n",
    "#        return 1\n",
    "#    else:\n",
    "#        return 0\n",
    "\n",
    "# data.groupby(df['date'].map(is_in_range))\n",
    "print type(funun['DOB'][360484])\n",
    "print dir(funun['DOB'][360484])\n",
    "print funun['DOB'][360484].year\n",
    "# print funun['DOB'][0]\n",
    "\n",
    "def group_by_decade(x):\n",
    "\n",
    "    if isinstance(x['DOB'], pd.tslib.Timestamp):\n",
    "#         print x['DOB'].year\n",
    "        return x['DOB'].year\n",
    "    else:\n",
    "        return None\n",
    "    \n",
    "def group_by_year(x):\n",
    "    if isinstance(x['DOB'], pd.tslib.Timestamp):\n",
    "#         print x['DOB'].year\n",
    "        return x['DOB'].year\n",
    "    else:\n",
    "        return None\n",
    "    \n",
    "funun[\"Decade\"] = funun.apply(group_by_decade, axis = 1)\n",
    "funun[\"Year\"] = funun.apply(group_by_decade, axis =1)\n",
    "\n",
    "# funun[\"Year\"] = funun.apply(lambda row: row.DOB.year if isinstance(x.DOB, pd.tslib.Timestamp) else 1900, axis=1)"
   ]
  },
  {
   "cell_type": "code",
   "execution_count": 91,
   "metadata": {
    "collapsed": false
   },
   "outputs": [
    {
     "data": {
      "text/html": [
       "<div>\n",
       "<table border=\"1\" class=\"dataframe\">\n",
       "  <thead>\n",
       "    <tr style=\"text-align: right;\">\n",
       "      <th></th>\n",
       "      <th>FName</th>\n",
       "      <th>LName</th>\n",
       "      <th>City</th>\n",
       "      <th>DOB</th>\n",
       "      <th>Platform</th>\n",
       "      <th>Title</th>\n",
       "      <th>Date</th>\n",
       "      <th>Decade</th>\n",
       "      <th>Year</th>\n",
       "      <th>used</th>\n",
       "      <th>new</th>\n",
       "      <th>ini_newused</th>\n",
       "    </tr>\n",
       "  </thead>\n",
       "  <tbody>\n",
       "    <tr>\n",
       "      <th>427718</th>\n",
       "      <td>Kim</td>\n",
       "      <td>Rasmussen</td>\n",
       "      <td></td>\n",
       "      <td>NaT</td>\n",
       "      <td>X-box</td>\n",
       "      <td>Controller - Yobo Black</td>\n",
       "      <td>2009-12-24 11:33:06</td>\n",
       "      <td>NaN</td>\n",
       "      <td>NaN</td>\n",
       "      <td>14.99</td>\n",
       "      <td>19.99</td>\n",
       "      <td>19</td>\n",
       "    </tr>\n",
       "    <tr>\n",
       "      <th>408659</th>\n",
       "      <td>Rio</td>\n",
       "      <td>Jensen</td>\n",
       "      <td></td>\n",
       "      <td>NaT</td>\n",
       "      <td>X-box</td>\n",
       "      <td>Tom Clancy's Splinter Cell</td>\n",
       "      <td>2007-12-22 19:22:44</td>\n",
       "      <td>NaN</td>\n",
       "      <td>NaN</td>\n",
       "      <td>4.99</td>\n",
       "      <td>9.99</td>\n",
       "      <td>19</td>\n",
       "    </tr>\n",
       "    <tr>\n",
       "      <th>268109</th>\n",
       "      <td>Randi</td>\n",
       "      <td>Barr</td>\n",
       "      <td>Lewiston</td>\n",
       "      <td>NaT</td>\n",
       "      <td>Playstation 2</td>\n",
       "      <td>Pac-Man World 3</td>\n",
       "      <td>2012-04-20 15:17:20</td>\n",
       "      <td>NaN</td>\n",
       "      <td>NaN</td>\n",
       "      <td>17.99</td>\n",
       "      <td>19.99</td>\n",
       "      <td>19</td>\n",
       "    </tr>\n",
       "    <tr>\n",
       "      <th>145372</th>\n",
       "      <td>Jacklyn</td>\n",
       "      <td>schwartz</td>\n",
       "      <td></td>\n",
       "      <td>NaT</td>\n",
       "      <td>Nintendo DS</td>\n",
       "      <td>Disney Fairies: Tinker Bell</td>\n",
       "      <td>2015-04-06 12:47:25</td>\n",
       "      <td>NaN</td>\n",
       "      <td>NaN</td>\n",
       "      <td>14.99</td>\n",
       "      <td>19.99</td>\n",
       "      <td>19</td>\n",
       "    </tr>\n",
       "    <tr>\n",
       "      <th>147262</th>\n",
       "      <td>Lisa</td>\n",
       "      <td>Wickham</td>\n",
       "      <td>Hyrum</td>\n",
       "      <td>1974-03-26</td>\n",
       "      <td>Nintendo DS</td>\n",
       "      <td>Paws &amp; Claws-Pampered Pets</td>\n",
       "      <td>2013-03-15 16:21:40</td>\n",
       "      <td>1974.0</td>\n",
       "      <td>1974.0</td>\n",
       "      <td>14.99</td>\n",
       "      <td>19.99</td>\n",
       "      <td>19</td>\n",
       "    </tr>\n",
       "  </tbody>\n",
       "</table>\n",
       "</div>"
      ],
      "text/plain": [
       "          FName      LName      City        DOB       Platform  \\\n",
       "427718      Kim  Rasmussen                  NaT          X-box   \n",
       "408659      Rio     Jensen                  NaT          X-box   \n",
       "268109    Randi       Barr  Lewiston        NaT  Playstation 2   \n",
       "145372  Jacklyn   schwartz                  NaT    Nintendo DS   \n",
       "147262     Lisa    Wickham     Hyrum 1974-03-26    Nintendo DS   \n",
       "\n",
       "                              Title                Date  Decade    Year  \\\n",
       "427718      Controller - Yobo Black 2009-12-24 11:33:06     NaN     NaN   \n",
       "408659   Tom Clancy's Splinter Cell 2007-12-22 19:22:44     NaN     NaN   \n",
       "268109              Pac-Man World 3 2012-04-20 15:17:20     NaN     NaN   \n",
       "145372  Disney Fairies: Tinker Bell 2015-04-06 12:47:25     NaN     NaN   \n",
       "147262   Paws & Claws-Pampered Pets 2013-03-15 16:21:40  1974.0  1974.0   \n",
       "\n",
       "         used    new  ini_newused  \n",
       "427718  14.99  19.99           19  \n",
       "408659   4.99   9.99           19  \n",
       "268109  17.99  19.99           19  \n",
       "145372  14.99  19.99           19  \n",
       "147262  14.99  19.99           19  "
      ]
     },
     "execution_count": 91,
     "metadata": {},
     "output_type": "execute_result"
    }
   ],
   "source": [
    "funun.sample(n=5)"
   ]
  },
  {
   "cell_type": "code",
   "execution_count": 75,
   "metadata": {
    "collapsed": false
   },
   "outputs": [
    {
     "name": "stdout",
     "output_type": "stream",
     "text": [
      "                        FName  LName  City  DOB  Title  Date  Decade\n",
      "Platform        Year                                                \n",
      "Amiibo          1993.0      1      1     1    1      1     1       1\n",
      "                1995.0      4      4     4    4      4     4       4\n",
      "                2014.0      5      5     5    5      5     5       5\n",
      "Board Games     1958.0      1      1     1    1      1     1       1\n",
      "                1963.0      1      1     1    1      1     1       1\n",
      "                1971.0      1      1     1    1      1     1       1\n",
      "                1974.0      1      1     1    1      1     1       1\n",
      "                1981.0      1      1     1    1      1     1       1\n",
      "                1983.0      2      2     2    2      2     2       2\n",
      "                1986.0      2      2     2    2      2     2       2\n",
      "                1987.0      2      2     2    2      2     2       2\n",
      "                1988.0      3      3     3    3      3     3       3\n",
      "                1989.0      3      3     3    3      3     3       3\n",
      "                1990.0      1      1     1    1      1     1       1\n",
      "                1991.0      1      1     1    1      1     1       1\n",
      "                1992.0      1      1     1    1      1     1       1\n",
      "                1993.0      2      2     2    2      2     2       2\n",
      "                1994.0      1      1     1    1      1     1       1\n",
      "                1997.0      1      1     1    1      1     1       1\n",
      "                2014.0     35     35    35   35     35    35      35\n",
      "Cards           1981.0      1      1     1    1      1     1       1\n",
      "                1996.0      1      1     1    1      1     1       1\n",
      "                1998.0      3      3     3    3      3     3       3\n",
      "                2014.0     11     11    11   11     11    11      11\n",
      "DVD             1978.0      1      1     1    1      1     1       1\n",
      "                1989.0      2      2     2    2      2     2       2\n",
      "                1993.0      3      3     3    3      3     3       3\n",
      "                2014.0      4      4     4    4      4     4       4\n",
      "Disney Infinity 1971.0      9      9     9    9      9     9       9\n",
      "                1976.0      8      8     8    8      8     8       8\n",
      "...                       ...    ...   ...  ...    ...   ...     ...\n",
      "Xbox One        1976.0     14     14    14   14     14    14      14\n",
      "                1977.0     19     19    19   19     19    19      19\n",
      "                1978.0      2      2     2    2      2     2       2\n",
      "                1979.0     54     54    54   54     54    54      54\n",
      "                1980.0      5      5     5    5      5     5       5\n",
      "                1981.0      7      7     7    7      7     7       7\n",
      "                1982.0     22     22    22   22     22    22      22\n",
      "                1983.0      5      5     5    5      5     5       5\n",
      "                1984.0     12     12    12   12     12    12      12\n",
      "                1985.0      7      7     7    7      7     7       7\n",
      "                1986.0     26     26    26   26     26    26      26\n",
      "                1987.0     38     38    38   38     38    38      38\n",
      "                1988.0     25     25    25   25     25    25      25\n",
      "                1989.0     45     45    45   45     45    45      45\n",
      "                1990.0     32     32    32   32     32    32      32\n",
      "                1991.0     54     54    54   54     54    54      54\n",
      "                1992.0     17     17    17   17     17    17      17\n",
      "                1993.0     15     15    15   15     15    15      15\n",
      "                1994.0     31     31    31   31     31    31      31\n",
      "                1995.0     33     33    33   33     33    33      33\n",
      "                1996.0     70     70    70   70     70    70      70\n",
      "                1997.0     28     28    28   28     28    28      28\n",
      "                1998.0     16     16    16   16     16    16      16\n",
      "                2013.0      2      2     2    2      2     2       2\n",
      "                2014.0      5      5     5    5      5     5       5\n",
      "                2017.0      2      2     2    2      2     2       2\n",
      "                2044.0      1      1     1    1      1     1       1\n",
      "                2064.0      4      4     4    4      4     4       4\n",
      "                2066.0      1      1     1    1      1     1       1\n",
      "Yobo            1986.0      2      2     2    2      2     2       2\n",
      "\n",
      "[1932 rows x 7 columns]\n"
     ]
    }
   ],
   "source": [
    "platform=funun.groupby([\"Platform\", \"Year\"]).count()\n",
    "# funun.plot(kind = 'scatter',\"Date\",\"\")\n",
    "print platform\n"
   ]
  },
  {
   "cell_type": "code",
   "execution_count": 119,
   "metadata": {
    "collapsed": false
   },
   "outputs": [
    {
     "data": {
      "text/html": [
       "<div>\n",
       "<table border=\"1\" class=\"dataframe\">\n",
       "  <thead>\n",
       "    <tr style=\"text-align: right;\">\n",
       "      <th></th>\n",
       "      <th>FName</th>\n",
       "      <th>LName</th>\n",
       "      <th>City</th>\n",
       "      <th>DOB</th>\n",
       "      <th>Platform</th>\n",
       "      <th>Title</th>\n",
       "      <th>Date</th>\n",
       "      <th>Decade</th>\n",
       "      <th>Year</th>\n",
       "      <th>used</th>\n",
       "      <th>new</th>\n",
       "      <th>ini_newused</th>\n",
       "    </tr>\n",
       "  </thead>\n",
       "  <tbody>\n",
       "    <tr>\n",
       "      <th>355129</th>\n",
       "      <td>Cory</td>\n",
       "      <td>Seamons</td>\n",
       "      <td>Preston</td>\n",
       "      <td>1989-06-28</td>\n",
       "      <td>Super Nintendo</td>\n",
       "      <td>System-FC Twin (Super Nintendo/Nintendo) Black...</td>\n",
       "      <td>2007-12-29 12:45:04</td>\n",
       "      <td>1989.0</td>\n",
       "      <td>1989.0</td>\n",
       "      <td>39.99</td>\n",
       "      <td>49.99</td>\n",
       "      <td>18</td>\n",
       "    </tr>\n",
       "    <tr>\n",
       "      <th>353758</th>\n",
       "      <td>Cory</td>\n",
       "      <td>Jacobsen</td>\n",
       "      <td>lOGAN</td>\n",
       "      <td>1996-11-01</td>\n",
       "      <td>Super Nintendo</td>\n",
       "      <td>Legend of Zelda III(3): Link to the Past</td>\n",
       "      <td>2016-05-17 11:58:14</td>\n",
       "      <td>1996.0</td>\n",
       "      <td>1996.0</td>\n",
       "      <td>44.99</td>\n",
       "      <td>0.00</td>\n",
       "      <td>19</td>\n",
       "    </tr>\n",
       "    <tr>\n",
       "      <th>348368</th>\n",
       "      <td>Aleigh</td>\n",
       "      <td>Greene</td>\n",
       "      <td>Brigham City</td>\n",
       "      <td>1986-03-18</td>\n",
       "      <td>Super Nintendo</td>\n",
       "      <td>Street Fighter II (2)</td>\n",
       "      <td>2009-03-26 18:24:31</td>\n",
       "      <td>1986.0</td>\n",
       "      <td>1986.0</td>\n",
       "      <td>14.99</td>\n",
       "      <td>0.00</td>\n",
       "      <td>19</td>\n",
       "    </tr>\n",
       "    <tr>\n",
       "      <th>351572</th>\n",
       "      <td>Grant</td>\n",
       "      <td>Bushman</td>\n",
       "      <td>logan</td>\n",
       "      <td>1978-10-11</td>\n",
       "      <td>Super Nintendo</td>\n",
       "      <td>Super Star Wars</td>\n",
       "      <td>2005-06-08 14:38:59</td>\n",
       "      <td>1978.0</td>\n",
       "      <td>1978.0</td>\n",
       "      <td>6.99</td>\n",
       "      <td>0.00</td>\n",
       "      <td>19</td>\n",
       "    </tr>\n",
       "    <tr>\n",
       "      <th>355901</th>\n",
       "      <td>Brandon</td>\n",
       "      <td>Sandoval</td>\n",
       "      <td>Logan</td>\n",
       "      <td>1980-11-13</td>\n",
       "      <td>Super Nintendo</td>\n",
       "      <td>System - FC3 Plus (SNES/Genesis/NES)(Charcoal/...</td>\n",
       "      <td>2009-05-02 15:19:36</td>\n",
       "      <td>1980.0</td>\n",
       "      <td>1980.0</td>\n",
       "      <td>39.99</td>\n",
       "      <td>59.99</td>\n",
       "      <td>18</td>\n",
       "    </tr>\n",
       "  </tbody>\n",
       "</table>\n",
       "</div>"
      ],
      "text/plain": [
       "          FName     LName          City        DOB        Platform  \\\n",
       "355129     Cory   Seamons       Preston 1989-06-28  Super Nintendo   \n",
       "353758     Cory  Jacobsen         lOGAN 1996-11-01  Super Nintendo   \n",
       "348368   Aleigh    Greene  Brigham City 1986-03-18  Super Nintendo   \n",
       "351572    Grant   Bushman         logan 1978-10-11  Super Nintendo   \n",
       "355901  Brandon  Sandoval         Logan 1980-11-13  Super Nintendo   \n",
       "\n",
       "                                                    Title                Date  \\\n",
       "355129  System-FC Twin (Super Nintendo/Nintendo) Black... 2007-12-29 12:45:04   \n",
       "353758           Legend of Zelda III(3): Link to the Past 2016-05-17 11:58:14   \n",
       "348368                              Street Fighter II (2) 2009-03-26 18:24:31   \n",
       "351572                                    Super Star Wars 2005-06-08 14:38:59   \n",
       "355901  System - FC3 Plus (SNES/Genesis/NES)(Charcoal/... 2009-05-02 15:19:36   \n",
       "\n",
       "        Decade    Year   used    new  ini_newused  \n",
       "355129  1989.0  1989.0  39.99  49.99           18  \n",
       "353758  1996.0  1996.0  44.99   0.00           19  \n",
       "348368  1986.0  1986.0  14.99   0.00           19  \n",
       "351572  1978.0  1978.0   6.99   0.00           19  \n",
       "355901  1980.0  1980.0  39.99  59.99           18  "
      ]
     },
     "execution_count": 119,
     "metadata": {},
     "output_type": "execute_result"
    }
   ],
   "source": [
    "# funun.plot.scatter('DOB','used')\n",
    "filtered = funun.dropna()\n",
    "\n",
    "p1 = filtered[filtered[\"Platform\"] == \"Super Nintendo\"]\n",
    "p1.sample(n=5)\n",
    "\n"
   ]
  },
  {
   "cell_type": "code",
   "execution_count": 125,
   "metadata": {
    "collapsed": false
   },
   "outputs": [
    {
     "data": {
      "text/plain": [
       "<matplotlib.collections.PathCollection at 0x39f295c0>"
      ]
     },
     "execution_count": 125,
     "metadata": {},
     "output_type": "execute_result"
    },
    {
     "data": {
      "image/png": "[encoded data removed]",
      "text/plain": [
       "<matplotlib.figure.Figure at 0x3a02f358>"
      ]
     },
     "metadata": {},
     "output_type": "display_data"
    }
   ],
   "source": [
    "# plt.scatter(filtered[\"DOB\"], filtered[\"used\"])\n",
    "plt.scatter(p1[\"DOB\"].astype(np.int64), p1[\"used\"])"
   ]
  },
  {
   "cell_type": "code",
   "execution_count": 5,
   "metadata": {
    "collapsed": false
   },
   "outputs": [],
   "source": [
    "xnorm = data\n",
    "plt.scatter(x_norm[:, 0], x_norm[:, 1])\n"
   ]
  },
  {
   "cell_type": "code",
   "execution_count": 134,
   "metadata": {
    "collapsed": false
   },
   "outputs": [
    {
     "name": "stderr",
     "output_type": "stream",
     "text": [
      "C:\\Program Files\\Anaconda2\\lib\\site-packages\\ipykernel\\__main__.py:3: SettingWithCopyWarning: \n",
      "A value is trying to be set on a copy of a slice from a DataFrame.\n",
      "Try using .loc[row_indexer,col_indexer] = value instead\n",
      "\n",
      "See the caveats in the documentation: http://pandas.pydata.org/pandas-docs/stable/indexing.html#indexing-view-versus-copy\n",
      "  app.launch_new_instance()\n"
     ]
    },
    {
     "data": {
      "text/plain": [
       "<matplotlib.collections.PathCollection at 0x33269a58>"
      ]
     },
     "execution_count": 134,
     "metadata": {},
     "output_type": "execute_result"
    },
    {
     "data": {
      "image/png": "[encoded data removed]",
      "text/plain": [
       "<matplotlib.figure.Figure at 0x3bb5c278>"
      ]
     },
     "metadata": {},
     "output_type": "display_data"
    }
   ],
   "source": [
    "\n",
    "tester_norm=KMeans(n_clusters=5)\n",
    "p1[\"DOB\"] =p1[\"DOB\"].astype(np.int64)\n",
    "tester_norm.fit(p1[[\"DOB\", \"used\"]])\n",
    "labels_norm = tester_norm.labels_\n",
    "plt.scatter(p1[\"DOB\"].astype(np.int64), p1[\"used\"], c=labels_norm.astype(np.float))"
   ]
  },
  {
   "cell_type": "code",
   "execution_count": null,
   "metadata": {
    "collapsed": true
   },
   "outputs": [],
   "source": []
  }
 ],
 "metadata": {
  "anaconda-cloud": {},
  "kernelspec": {
   "display_name": "Python [default]",
   "language": "python",
   "name": "python2"
  },
  "language_info": {
   "codemirror_mode": {
    "name": "ipython",
    "version": 2
   },
   "file_extension": ".py",
   "mimetype": "text/x-python",
   "name": "python",
   "nbconvert_exporter": "python",
   "pygments_lexer": "ipython2",
   "version": "2.7.12"
  }
 },
 "nbformat": 4,
 "nbformat_minor": 2
}
