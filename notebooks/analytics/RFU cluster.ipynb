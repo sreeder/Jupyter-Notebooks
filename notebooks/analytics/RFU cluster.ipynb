{
 "cells": [
  {
   "cell_type": "code",
   "execution_count": 1,
   "metadata": {
    "collapsed": false
   },
   "outputs": [],
   "source": [
    "import pymysql\n",
    "# import pymongo\n",
    "# from pymongo import MongoClient\n",
    "import numpy as np\n",
    "\n",
    "import matplotlib\n",
    "import matplotlib.pyplot as plt\n",
    "from mpl_toolkits.mplot3d import Axes3D\n",
    "%matplotlib inline\n",
    "\n",
    "\n",
    "from sklearn.cluster import KMeans\n",
    "from sklearn import datasets\n",
    "import scipy.cluster.hierarchy as hac\n",
    "\n",
    "import csv\n",
    "import json\n",
    "import pymysql\n",
    "\n",
    "import pandas as pd\n",
    "from datetime import datetime\n",
    "# import seaborn as sb\n"
   ]
  },
  {
   "cell_type": "code",
   "execution_count": 24,
   "metadata": {
    "collapsed": false
   },
   "outputs": [],
   "source": [
    "db_query= \"SELECT c.cus_fname AS FName, \"\\\n",
    "\"c.cus_lname AS LName, c.cus_city AS City, c.cus_dob AS DOB, p.pla_name AS Platform, \"\\\n",
    "\"it.itm_title AS Title, from_unixtime(i.inv_time) AS Date , NULL AS Decade, NULL AS Year, \"\\\n",
    "\"pr.prc_used AS used, pr.prc_new AS new, ii.ini_newused AS SoldNew, y.yer_year As YearRelease \"\\\n",
    "\"FROM rfu.invoices AS i \"\\\n",
    "\"JOIN rfu.customers AS c \"\\\n",
    "\" ON i.inv_customerID=c.cus_customerID \"\\\n",
    "\"JOIN rfu.invoice_items AS ii \"\\\n",
    "\" ON ii.ini_invoiceID = i.inv_invoiceID \"\\\n",
    "\"JOIN rfu.items AS it \"\\\n",
    "\" ON ii.ini_itemID = it.itm_itemID \"\\\n",
    "\"JOIN rfu.platforms AS p \"\\\n",
    "\" ON it.itm_platformID= p.pla_platformID \"\\\n",
    "\"JOIN rfu.prices AS pr \"\\\n",
    "\" ON it.itm_itemID = pr.prc_itemID \"\\\n",
    "\"JOIN rfu.years AS y \"\\\n",
    "\" ON it.itm_yearID = y.yer_yearID;\"\n",
    "# 18 is new, 19 is used \n"
   ]
  },
  {
   "cell_type": "code",
   "execution_count": 25,
   "metadata": {
    "collapsed": false
   },
   "outputs": [
    {
     "name": "stdout",
     "output_type": "stream",
     "text": [
      "             FName        LName        City        DOB         Platform  \\\n",
      "469990  Mary Ellen      Poulsen  Smithfield        NaT        X-Box 360   \n",
      "445850      Colter  Christensen  Bear River 1986-05-02        X-Box 360   \n",
      "60323       Shelly         Tive       Logan 1973-08-13  Gameboy Advance   \n",
      "325871        Zach      Saltern       Logan 1992-08-29              PSP   \n",
      "298668      Andrew      Vanover       Logan 1979-07-10    Playstation 3   \n",
      "\n",
      "                                        Title                Date Decade  \\\n",
      "469990             Viva Pinata: Party Animals 2009-01-22 19:35:38   None   \n",
      "445850                               Quake 4* 2014-08-08 17:35:34   None   \n",
      "60323      Yu-Gi-Oh! The Eternal Duelist Soul 2004-09-20 11:56:13   None   \n",
      "325871                  Yu Gi Oh! Tag Force 4 2011-07-04 12:52:48   None   \n",
      "298668  Prince of Persia: The Forgotten Sands 2012-06-05 20:25:25   None   \n",
      "\n",
      "        Year   used    new  SoldNew YearRelease  \n",
      "469990  None  14.99  19.99       19        2007  \n",
      "445850  None  14.99  19.99       19        2005  \n",
      "60323   None  12.99   0.00       19     Unknown  \n",
      "325871  None  19.99  29.99       19     Unknown  \n",
      "298668  None  14.99  19.99       19        2010  \n"
     ]
    }
   ],
   "source": [
    "conn = pymysql.connect(host='localhost', port=3306, user='root', \n",
    "                       passwd='imkingoftheworld', db='rfu')\n",
    "funun=pd.read_sql(db_query, conn, parse_dates = [\"Date\", \"DOB\"] )\n",
    "\n",
    "\n",
    "print funun.sample(n=5)\n",
    "# pandas.read_sql(sql, con, index_col=None, coerce_float=True, params=None, parse_dates=None, columns=None, chunksize=None)[source]"
   ]
  },
  {
   "cell_type": "code",
   "execution_count": 20,
   "metadata": {
    "collapsed": false
   },
   "outputs": [
    {
     "name": "stdout",
     "output_type": "stream",
     "text": [
      "4\n",
      "<type 'datetime.time'>\n"
     ]
    }
   ],
   "source": [
    "# print funun.sample(n=5)\n",
    "print funun['DOB'][360484].weekday()\n",
    "print type(funun['DOB'][360484].time())"
   ]
  },
  {
   "cell_type": "code",
   "execution_count": 26,
   "metadata": {
    "collapsed": false
   },
   "outputs": [
    {
     "name": "stdout",
     "output_type": "stream",
     "text": [
      "<class 'pandas.tslib.Timestamp'>\n",
      "['__add__', '__class__', '__delattr__', '__dict__', '__doc__', '__eq__', '__format__', '__ge__', '__getattribute__', '__gt__', '__hash__', '__init__', '__le__', '__lt__', '__module__', '__ne__', '__new__', '__pyx_vtable__', '__qualname__', '__radd__', '__reduce__', '__reduce_ex__', '__repr__', '__rsub__', '__setattr__', '__setstate__', '__sizeof__', '__str__', '__sub__', '__subclasshook__', '__weakref__', '_date_repr', '_get_field', '_get_start_end_field', '_has_time_component', '_repr_base', '_round', '_time_repr', 'asm8', 'astimezone', 'ceil', 'combine', 'ctime', 'date', 'day', 'dayofweek', 'dayofyear', 'days_in_month', 'daysinmonth', 'dst', 'floor', 'freq', 'freqstr', 'fromordinal', 'fromtimestamp', 'hour', 'is_month_end', 'is_month_start', 'is_quarter_end', 'is_quarter_start', 'is_year_end', 'is_year_start', 'isocalendar', 'isoformat', 'isoweekday', 'max', 'microsecond', 'min', 'minute', 'month', 'nanosecond', 'normalize', 'now', 'offset', 'quarter', 'replace', 'resolution', 'round', 'second', 'strftime', 'strptime', 'time', 'timetuple', 'timetz', 'to_datetime', 'to_datetime64', 'to_julian_date', 'to_period', 'to_pydatetime', 'today', 'toordinal', 'tz', 'tz_convert', 'tz_localize', 'tzinfo', 'tzname', 'utcfromtimestamp', 'utcnow', 'utcoffset', 'utctimetuple', 'value', 'week', 'weekday', 'weekday_name', 'weekofyear', 'year']\n",
      "4\n"
     ]
    }
   ],
   "source": [
    "# funun['DOB']=pd.to_datetime(funun['DOB']), format='%d-%m-%Y %H:%M:%S'\n",
    "\n",
    "\n",
    "\n",
    "# def is_in_range(x):\n",
    "#    if x['Date'] > '28-02-2010 00:00:00' and x['Date'] < '31-08-2014 00:00:00':\n",
    "#        return 1\n",
    "#    else:\n",
    "#        return 0\n",
    "\n",
    "# data.groupby(df['date'].map(is_in_range))\n",
    "print type(funun['DOB'][360484])\n",
    "print dir(funun['DOB'][360484])\n",
    "print funun['DOB'][360484].weekday()\n",
    "# print funun['DOB'][0]\n",
    "\n",
    "def group_by_decade(x):\n",
    "\n",
    "    if isinstance(x['DOB'], pd.tslib.Timestamp):\n",
    "#         print x['DOB'].year\n",
    "        return (x['DOB'].year // 10) * 10\n",
    "    else:\n",
    "        return None\n",
    "    \n",
    "def group_by_year(x):\n",
    "    if isinstance(x['DOB'], pd.tslib.Timestamp):\n",
    "#         print x['DOB'].year\n",
    "        return x['DOB'].year\n",
    "    else:\n",
    "        return None\n",
    "    \n",
    "def day_of_week(x):\n",
    "    if isinstance(x['DOB'], pd.tslib.Timestamp):\n",
    "#         print x['DOB'].year\n",
    "        return x['DOB'].weekday()\n",
    "    else:\n",
    "        return None\n",
    "def get_time(x):\n",
    "    if isinstance(x['Date'], pd.tslib.Timestamp):\n",
    "#         print x['DOB'].year\n",
    "        return x['Date'].time()\n",
    "    else:\n",
    "        return None\n",
    "    \n",
    "def when_sold(x):\n",
    "    if x[\"SoldNew\"]==18:\n",
    "        return True\n",
    "    else:\n",
    "        return False\n",
    "    \n",
    "funun[\"Decade\"] = funun.apply(group_by_decade, axis = 1)\n",
    "funun[\"Year\"] = funun.apply(group_by_year, axis =1)\n",
    "funun[\"DayOfWeek\"]= funun.apply(day_of_week, axis = 1)\n",
    "# # 18 is new, 19 is used\n",
    "funun['SoldNew']=funun.apply(when_sold, axis = 1)\n",
    "funun[\"Time\"]=funun.apply(get_time, axis =1)\n",
    "\n",
    "\n"
   ]
  },
  {
   "cell_type": "code",
   "execution_count": 27,
   "metadata": {
    "collapsed": false
   },
   "outputs": [
    {
     "data": {
      "text/html": [
       "<div>\n",
       "<table border=\"1\" class=\"dataframe\">\n",
       "  <thead>\n",
       "    <tr style=\"text-align: right;\">\n",
       "      <th></th>\n",
       "      <th>FName</th>\n",
       "      <th>LName</th>\n",
       "      <th>City</th>\n",
       "      <th>DOB</th>\n",
       "      <th>Platform</th>\n",
       "      <th>Title</th>\n",
       "      <th>Date</th>\n",
       "      <th>Decade</th>\n",
       "      <th>Year</th>\n",
       "      <th>used</th>\n",
       "      <th>new</th>\n",
       "      <th>SoldNew</th>\n",
       "      <th>YearRelease</th>\n",
       "      <th>DayOfWeek</th>\n",
       "      <th>Time</th>\n",
       "    </tr>\n",
       "  </thead>\n",
       "  <tbody>\n",
       "    <tr>\n",
       "      <th>210941</th>\n",
       "      <td>Terry</td>\n",
       "      <td>Graham</td>\n",
       "      <td>logan</td>\n",
       "      <td>1982-05-13</td>\n",
       "      <td>Playstation 2</td>\n",
       "      <td>NHL 2004</td>\n",
       "      <td>2014-05-12 21:02:01</td>\n",
       "      <td>1980.0</td>\n",
       "      <td>1982.0</td>\n",
       "      <td>9.99</td>\n",
       "      <td>14.99</td>\n",
       "      <td>False</td>\n",
       "      <td>Unknown</td>\n",
       "      <td>3.0</td>\n",
       "      <td>21:02:01</td>\n",
       "    </tr>\n",
       "    <tr>\n",
       "      <th>284409</th>\n",
       "      <td>Santos</td>\n",
       "      <td>jonas</td>\n",
       "      <td></td>\n",
       "      <td>NaT</td>\n",
       "      <td>Playstation 3</td>\n",
       "      <td>Haze</td>\n",
       "      <td>2014-01-30 18:14:13</td>\n",
       "      <td>NaN</td>\n",
       "      <td>NaN</td>\n",
       "      <td>14.99</td>\n",
       "      <td>19.99</td>\n",
       "      <td>False</td>\n",
       "      <td>Unknown</td>\n",
       "      <td>NaN</td>\n",
       "      <td>18:14:13</td>\n",
       "    </tr>\n",
       "    <tr>\n",
       "      <th>146123</th>\n",
       "      <td>Hunter</td>\n",
       "      <td>Gines</td>\n",
       "      <td>Woodland</td>\n",
       "      <td>1995-08-10</td>\n",
       "      <td>Nintendo DS</td>\n",
       "      <td>Pokemon Soul Silver Version(game only)*</td>\n",
       "      <td>2015-03-20 18:37:02</td>\n",
       "      <td>1990.0</td>\n",
       "      <td>1995.0</td>\n",
       "      <td>44.99</td>\n",
       "      <td>49.99</td>\n",
       "      <td>False</td>\n",
       "      <td>Unknown</td>\n",
       "      <td>3.0</td>\n",
       "      <td>18:37:02</td>\n",
       "    </tr>\n",
       "    <tr>\n",
       "      <th>404828</th>\n",
       "      <td>DJ</td>\n",
       "      <td>Cordell</td>\n",
       "      <td></td>\n",
       "      <td>NaT</td>\n",
       "      <td>X-box</td>\n",
       "      <td>SSX 3</td>\n",
       "      <td>2017-01-11 18:36:32</td>\n",
       "      <td>NaN</td>\n",
       "      <td>NaN</td>\n",
       "      <td>14.99</td>\n",
       "      <td>19.99</td>\n",
       "      <td>False</td>\n",
       "      <td>2003</td>\n",
       "      <td>NaN</td>\n",
       "      <td>18:36:32</td>\n",
       "    </tr>\n",
       "    <tr>\n",
       "      <th>354668</th>\n",
       "      <td>Ada</td>\n",
       "      <td>Knight</td>\n",
       "      <td></td>\n",
       "      <td>NaT</td>\n",
       "      <td>Super Nintendo</td>\n",
       "      <td>Controller - Performance Super Pad</td>\n",
       "      <td>2015-02-11 12:35:30</td>\n",
       "      <td>NaN</td>\n",
       "      <td>NaN</td>\n",
       "      <td>7.99</td>\n",
       "      <td>9.99</td>\n",
       "      <td>True</td>\n",
       "      <td>Unknown</td>\n",
       "      <td>NaN</td>\n",
       "      <td>12:35:30</td>\n",
       "    </tr>\n",
       "  </tbody>\n",
       "</table>\n",
       "</div>"
      ],
      "text/plain": [
       "         FName    LName      City        DOB        Platform  \\\n",
       "210941   Terry   Graham     logan 1982-05-13   Playstation 2   \n",
       "284409  Santos    jonas                  NaT   Playstation 3   \n",
       "146123  Hunter    Gines  Woodland 1995-08-10     Nintendo DS   \n",
       "404828      DJ  Cordell                  NaT           X-box   \n",
       "354668     Ada   Knight                  NaT  Super Nintendo   \n",
       "\n",
       "                                          Title                Date  Decade  \\\n",
       "210941                                 NHL 2004 2014-05-12 21:02:01  1980.0   \n",
       "284409                                     Haze 2014-01-30 18:14:13     NaN   \n",
       "146123  Pokemon Soul Silver Version(game only)* 2015-03-20 18:37:02  1990.0   \n",
       "404828                                    SSX 3 2017-01-11 18:36:32     NaN   \n",
       "354668       Controller - Performance Super Pad 2015-02-11 12:35:30     NaN   \n",
       "\n",
       "          Year   used    new SoldNew YearRelease  DayOfWeek      Time  \n",
       "210941  1982.0   9.99  14.99   False     Unknown        3.0  21:02:01  \n",
       "284409     NaN  14.99  19.99   False     Unknown        NaN  18:14:13  \n",
       "146123  1995.0  44.99  49.99   False     Unknown        3.0  18:37:02  \n",
       "404828     NaN  14.99  19.99   False        2003        NaN  18:36:32  \n",
       "354668     NaN   7.99   9.99    True     Unknown        NaN  12:35:30  "
      ]
     },
     "execution_count": 27,
     "metadata": {},
     "output_type": "execute_result"
    }
   ],
   "source": [
    "funun.to_csv(\"test.csv\")\n",
    "funun.sample(n=5)\n"
   ]
  },
  {
   "cell_type": "code",
   "execution_count": 66,
   "metadata": {
    "collapsed": false
   },
   "outputs": [],
   "source": [
    "platform=funun.groupby([\"Platform\", \"Year\"]).size()\n",
    "# funun.plot(kind = 'scatter',\"Date\",\"\")\n",
    "# print platform\n",
    "platform = platform.reset_index(name='count')\n"
   ]
  },
  {
   "cell_type": "code",
   "execution_count": 68,
   "metadata": {
    "collapsed": false
   },
   "outputs": [
    {
     "data": {
      "text/plain": [
       "<matplotlib.text.Text at 0x1fefb940>"
      ]
     },
     "execution_count": 68,
     "metadata": {},
     "output_type": "execute_result"
    },
    {
     "data": {
      "image/png": "[encoded data removed]",
      "text/plain": [
       "<matplotlib.figure.Figure at 0x29d7d080>"
      ]
     },
     "metadata": {},
     "output_type": "display_data"
    }
   ],
   "source": [
    "\n",
    "\n",
    "plat1= platform[platform[\"Platform\"]==\"WII\"]\n",
    "# print plat1\n",
    "plt.scatter(plat1[\"Year\"], plat1[\"count\"])\n",
    "plt.title (\"Wii\")\n"
   ]
  },
  {
   "cell_type": "code",
   "execution_count": 37,
   "metadata": {
    "collapsed": false
   },
   "outputs": [
    {
     "data": {
      "text/html": [
       "<div>\n",
       "<table border=\"1\" class=\"dataframe\">\n",
       "  <thead>\n",
       "    <tr style=\"text-align: right;\">\n",
       "      <th></th>\n",
       "      <th>FName</th>\n",
       "      <th>LName</th>\n",
       "      <th>City</th>\n",
       "      <th>DOB</th>\n",
       "      <th>Platform</th>\n",
       "      <th>Title</th>\n",
       "      <th>Date</th>\n",
       "      <th>Decade</th>\n",
       "      <th>Year</th>\n",
       "      <th>used</th>\n",
       "      <th>new</th>\n",
       "      <th>ini_newused</th>\n",
       "    </tr>\n",
       "  </thead>\n",
       "  <tbody>\n",
       "    <tr>\n",
       "      <th>348964</th>\n",
       "      <td>Richard</td>\n",
       "      <td>Andrews</td>\n",
       "      <td>Logan</td>\n",
       "      <td>1980-08-05</td>\n",
       "      <td>Super Nintendo</td>\n",
       "      <td>Super Caesars Palace</td>\n",
       "      <td>2011-02-25 10:21:29</td>\n",
       "      <td>1980.0</td>\n",
       "      <td>1980.0</td>\n",
       "      <td>4.99</td>\n",
       "      <td>0.0</td>\n",
       "      <td>19</td>\n",
       "    </tr>\n",
       "    <tr>\n",
       "      <th>350430</th>\n",
       "      <td>Jolene</td>\n",
       "      <td>Tingey</td>\n",
       "      <td>North Logan</td>\n",
       "      <td>1969-04-07</td>\n",
       "      <td>Super Nintendo</td>\n",
       "      <td>Super Mario World</td>\n",
       "      <td>2007-12-29 14:40:52</td>\n",
       "      <td>1960.0</td>\n",
       "      <td>1969.0</td>\n",
       "      <td>34.99</td>\n",
       "      <td>0.0</td>\n",
       "      <td>19</td>\n",
       "    </tr>\n",
       "    <tr>\n",
       "      <th>353072</th>\n",
       "      <td>Andria</td>\n",
       "      <td>mares</td>\n",
       "      <td>roy</td>\n",
       "      <td>1979-10-13</td>\n",
       "      <td>Super Nintendo</td>\n",
       "      <td>Wheel of Fortune</td>\n",
       "      <td>2014-06-21 17:18:38</td>\n",
       "      <td>1970.0</td>\n",
       "      <td>1979.0</td>\n",
       "      <td>8.99</td>\n",
       "      <td>0.0</td>\n",
       "      <td>19</td>\n",
       "    </tr>\n",
       "    <tr>\n",
       "      <th>353170</th>\n",
       "      <td>Nick</td>\n",
       "      <td>Galloway</td>\n",
       "      <td>Logan</td>\n",
       "      <td>1983-08-29</td>\n",
       "      <td>Super Nintendo</td>\n",
       "      <td>Wing Commander:Secret Missions</td>\n",
       "      <td>2006-03-29 16:40:07</td>\n",
       "      <td>1980.0</td>\n",
       "      <td>1983.0</td>\n",
       "      <td>6.99</td>\n",
       "      <td>0.0</td>\n",
       "      <td>19</td>\n",
       "    </tr>\n",
       "    <tr>\n",
       "      <th>353462</th>\n",
       "      <td>Chris</td>\n",
       "      <td>Harmon</td>\n",
       "      <td>Clearfield</td>\n",
       "      <td>1983-01-05</td>\n",
       "      <td>Super Nintendo</td>\n",
       "      <td>Young Merlin</td>\n",
       "      <td>2016-02-13 19:56:25</td>\n",
       "      <td>1980.0</td>\n",
       "      <td>1983.0</td>\n",
       "      <td>12.99</td>\n",
       "      <td>0.0</td>\n",
       "      <td>19</td>\n",
       "    </tr>\n",
       "  </tbody>\n",
       "</table>\n",
       "</div>"
      ],
      "text/plain": [
       "          FName     LName         City        DOB        Platform  \\\n",
       "348964  Richard   Andrews        Logan 1980-08-05  Super Nintendo   \n",
       "350430   Jolene    Tingey  North Logan 1969-04-07  Super Nintendo   \n",
       "353072   Andria     mares          roy 1979-10-13  Super Nintendo   \n",
       "353170     Nick  Galloway        Logan 1983-08-29  Super Nintendo   \n",
       "353462    Chris    Harmon   Clearfield 1983-01-05  Super Nintendo   \n",
       "\n",
       "                                 Title                Date  Decade    Year  \\\n",
       "348964            Super Caesars Palace 2011-02-25 10:21:29  1980.0  1980.0   \n",
       "350430               Super Mario World 2007-12-29 14:40:52  1960.0  1969.0   \n",
       "353072                Wheel of Fortune 2014-06-21 17:18:38  1970.0  1979.0   \n",
       "353170  Wing Commander:Secret Missions 2006-03-29 16:40:07  1980.0  1983.0   \n",
       "353462                    Young Merlin 2016-02-13 19:56:25  1980.0  1983.0   \n",
       "\n",
       "         used  new  ini_newused  \n",
       "348964   4.99  0.0           19  \n",
       "350430  34.99  0.0           19  \n",
       "353072   8.99  0.0           19  \n",
       "353170   6.99  0.0           19  \n",
       "353462  12.99  0.0           19  "
      ]
     },
     "execution_count": 37,
     "metadata": {},
     "output_type": "execute_result"
    }
   ],
   "source": [
    "# funun.plot.scatter('DOB','used')\n",
    "filtered = funun.dropna()\n",
    "\n",
    "p1 = filtered[filtered[\"Platform\"] == \"Super Nintendo\"]\n",
    "p1.sample(n=5)\n",
    "\n"
   ]
  },
  {
   "cell_type": "code",
   "execution_count": 33,
   "metadata": {
    "collapsed": false
   },
   "outputs": [
    {
     "data": {
      "text/plain": [
       "<matplotlib.collections.PathCollection at 0x247087f0>"
      ]
     },
     "execution_count": 33,
     "metadata": {},
     "output_type": "execute_result"
    },
    {
     "data": {
      "image/png": "[encoded data removed]",
      "text/plain": [
       "<matplotlib.figure.Figure at 0x24da05f8>"
      ]
     },
     "metadata": {},
     "output_type": "display_data"
    }
   ],
   "source": [
    "# plt.scatter(filtered[\"DOB\"], filtered[\"used\"])\n",
    "plt.scatter(p1[\"DOB\"].astype(np.int64), p1[\"used\"])\n",
    "# plt.scatter(p1[\"DOB\"], p1[\"used\"])"
   ]
  },
  {
   "cell_type": "code",
   "execution_count": 5,
   "metadata": {
    "collapsed": false
   },
   "outputs": [],
   "source": [
    "xnorm = data\n",
    "plt.scatter(x_norm[:, 0], x_norm[:, 1])\n"
   ]
  },
  {
   "cell_type": "code",
   "execution_count": 34,
   "metadata": {
    "collapsed": false
   },
   "outputs": [
    {
     "name": "stderr",
     "output_type": "stream",
     "text": [
      "C:\\Program Files\\Anaconda2\\lib\\site-packages\\ipykernel\\__main__.py:3: SettingWithCopyWarning: \n",
      "A value is trying to be set on a copy of a slice from a DataFrame.\n",
      "Try using .loc[row_indexer,col_indexer] = value instead\n",
      "\n",
      "See the caveats in the documentation: http://pandas.pydata.org/pandas-docs/stable/indexing.html#indexing-view-versus-copy\n",
      "  app.launch_new_instance()\n"
     ]
    },
    {
     "data": {
      "text/plain": [
       "<matplotlib.collections.PathCollection at 0x29eb0208>"
      ]
     },
     "execution_count": 34,
     "metadata": {},
     "output_type": "execute_result"
    },
    {
     "data": {
      "image/png": "[encoded data removed]",
      "text/plain": [
       "<matplotlib.figure.Figure at 0x12f933c8>"
      ]
     },
     "metadata": {},
     "output_type": "display_data"
    }
   ],
   "source": [
    "\n",
    "tester_norm=KMeans(n_clusters=5)\n",
    "p1[\"DOB\"] =p1[\"DOB\"].astype(np.int64)\n",
    "tester_norm.fit(p1[[\"DOB\", \"used\"]])\n",
    "labels_norm = tester_norm.labels_\n",
    "plt.scatter(p1[\"DOB\"].astype(np.int64), p1[\"used\"], c=labels_norm.astype(np.float))"
   ]
  },
  {
   "cell_type": "code",
   "execution_count": null,
   "metadata": {
    "collapsed": true
   },
   "outputs": [],
   "source": []
  }
 ],
 "metadata": {
  "anaconda-cloud": {},
  "kernelspec": {
   "display_name": "Python [default]",
   "language": "python",
   "name": "python2"
  },
  "language_info": {
   "codemirror_mode": {
    "name": "ipython",
    "version": 2
   },
   "file_extension": ".py",
   "mimetype": "text/x-python",
   "name": "python",
   "nbconvert_exporter": "python",
   "pygments_lexer": "ipython2",
   "version": "2.7.12"
  }
 },
 "nbformat": 4,
 "nbformat_minor": 2
}
